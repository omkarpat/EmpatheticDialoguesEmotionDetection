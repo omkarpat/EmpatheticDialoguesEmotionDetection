{
  "nbformat": 4,
  "nbformat_minor": 0,
  "metadata": {
    "colab": {
      "name": "Model Evaluation.ipynb",
      "provenance": [],
      "authorship_tag": "ABX9TyOywkefRUjOkZzbzzzxjIT8",
      "include_colab_link": true
    },
    "kernelspec": {
      "name": "python3",
      "display_name": "Python 3"
    },
    "accelerator": "GPU"
  },
  "cells": [
    {
      "cell_type": "markdown",
      "metadata": {
        "id": "view-in-github",
        "colab_type": "text"
      },
      "source": [
        "<a href=\"https://colab.research.google.com/github/omkarpat/EmpatheticDialoguesEmotionDetection/blob/master/Model_Evaluation.ipynb\" target=\"_parent\"><img src=\"https://colab.research.google.com/assets/colab-badge.svg\" alt=\"Open In Colab\"/></a>"
      ]
    },
    {
      "cell_type": "code",
      "metadata": {
        "id": "mKC2EjlunupU",
        "colab_type": "code",
        "outputId": "b3a3bc1b-e116-434f-a6ac-5f23b131c042",
        "colab": {
          "base_uri": "https://localhost:8080/",
          "height": 70
        }
      },
      "source": [
        "# Colab settings/mount\n",
        "from google.colab import drive\n",
        "drive.mount('/content/gdrive')\n",
        "%cd gdrive/My\\ Drive/CSE\\ 245\\ Project"
      ],
      "execution_count": 59,
      "outputs": [
        {
          "output_type": "stream",
          "text": [
            "Drive already mounted at /content/gdrive; to attempt to forcibly remount, call drive.mount(\"/content/gdrive\", force_remount=True).\n",
            "[Errno 2] No such file or directory: 'gdrive/My Drive/CSE 245 Project'\n",
            "/content/gdrive/My Drive/CSE 245 Project\n"
          ],
          "name": "stdout"
        }
      ]
    },
    {
      "cell_type": "code",
      "metadata": {
        "id": "s3dPyPP9n9Gg",
        "colab_type": "code",
        "outputId": "1892f2f9-0568-4a02-e3d2-506d6606cc5f",
        "colab": {
          "base_uri": "https://localhost:8080/",
          "height": 316
        }
      },
      "source": [
        "!pip install transformers"
      ],
      "execution_count": 61,
      "outputs": [
        {
          "output_type": "stream",
          "text": [
            "Requirement already satisfied: transformers in /usr/local/lib/python3.6/dist-packages (2.10.0)\n",
            "Requirement already satisfied: filelock in /usr/local/lib/python3.6/dist-packages (from transformers) (3.0.12)\n",
            "Requirement already satisfied: requests in /usr/local/lib/python3.6/dist-packages (from transformers) (2.23.0)\n",
            "Requirement already satisfied: numpy in /usr/local/lib/python3.6/dist-packages (from transformers) (1.18.4)\n",
            "Requirement already satisfied: sacremoses in /usr/local/lib/python3.6/dist-packages (from transformers) (0.0.43)\n",
            "Requirement already satisfied: sentencepiece in /usr/local/lib/python3.6/dist-packages (from transformers) (0.1.91)\n",
            "Requirement already satisfied: tqdm>=4.27 in /usr/local/lib/python3.6/dist-packages (from transformers) (4.41.1)\n",
            "Requirement already satisfied: dataclasses; python_version < \"3.7\" in /usr/local/lib/python3.6/dist-packages (from transformers) (0.7)\n",
            "Requirement already satisfied: regex!=2019.12.17 in /usr/local/lib/python3.6/dist-packages (from transformers) (2019.12.20)\n",
            "Requirement already satisfied: tokenizers==0.7.0 in /usr/local/lib/python3.6/dist-packages (from transformers) (0.7.0)\n",
            "Requirement already satisfied: chardet<4,>=3.0.2 in /usr/local/lib/python3.6/dist-packages (from requests->transformers) (3.0.4)\n",
            "Requirement already satisfied: urllib3!=1.25.0,!=1.25.1,<1.26,>=1.21.1 in /usr/local/lib/python3.6/dist-packages (from requests->transformers) (1.24.3)\n",
            "Requirement already satisfied: certifi>=2017.4.17 in /usr/local/lib/python3.6/dist-packages (from requests->transformers) (2020.4.5.1)\n",
            "Requirement already satisfied: idna<3,>=2.5 in /usr/local/lib/python3.6/dist-packages (from requests->transformers) (2.9)\n",
            "Requirement already satisfied: six in /usr/local/lib/python3.6/dist-packages (from sacremoses->transformers) (1.12.0)\n",
            "Requirement already satisfied: joblib in /usr/local/lib/python3.6/dist-packages (from sacremoses->transformers) (0.15.1)\n",
            "Requirement already satisfied: click in /usr/local/lib/python3.6/dist-packages (from sacremoses->transformers) (7.1.2)\n"
          ],
          "name": "stdout"
        }
      ]
    },
    {
      "cell_type": "code",
      "metadata": {
        "id": "0pICnJ8zoBqf",
        "colab_type": "code",
        "outputId": "0fd061ae-e12b-4e3b-deb2-bb9268ed6093",
        "colab": {
          "base_uri": "https://localhost:8080/",
          "height": 70
        }
      },
      "source": [
        "!ls"
      ],
      "execution_count": 62,
      "outputs": [
        {
          "output_type": "stream",
          "text": [
            "Data\t\t     emotion_model3_save  pos_neg_model2_save\n",
            "emotion_model1_save  emotion_model4_save  pos_neg_model3_save\n",
            "emotion_model2_save  pos_neg_model1_save  pos_neg_model4_save\n"
          ],
          "name": "stdout"
        }
      ]
    },
    {
      "cell_type": "code",
      "metadata": {
        "id": "seESJAXDoHSP",
        "colab_type": "code",
        "outputId": "92ef2bd6-cbee-481b-dc1b-8cb8f7fd6b53",
        "colab": {
          "base_uri": "https://localhost:8080/",
          "height": 598
        }
      },
      "source": [
        "!ls Data"
      ],
      "execution_count": 63,
      "outputs": [
        {
          "output_type": "stream",
          "text": [
            "'Data Exploration.ipynb'\n",
            " data_fixed_train.json\n",
            " data_sample_100.json\n",
            " data_sample_10.json\n",
            " data_sample_10_processed.json\n",
            " data_sample_fixed_processed_final.json\n",
            " data_sample_fixed_processed_model1_final.csv\n",
            " data_sample_fixed_processed_model2_final.csv\n",
            " data_sample_fixed_processed_model3_final.csv\n",
            " data_sample_fixed_processed_model4_final.csv\n",
            " emotion_model1_predictions_test.csv\n",
            " emotion_model1_predictions_train.csv\n",
            " emotion_model1_predictions_valid.csv\n",
            " fixed\n",
            " fixed_test.csv\n",
            " fixed_test.json\n",
            " fixed_train_516.csv\n",
            " fixed_valid.csv\n",
            " fixed_valid.json\n",
            "'informative words.ipynb'\n",
            " Raw\n",
            " test_fixed_processed_final.json\n",
            " test_fixed_processed_model1_final.csv\n",
            " test_fixed_processed_model2_final.csv\n",
            " test_fixed_processed_model3_final.csv\n",
            " test_fixed_processed_model4_final.csv\n",
            " valence_groupings.txt\n",
            " valid.csv\n",
            " valid_fixed_processed_final.json\n",
            " valid_fixed_processed_model1_final.csv\n",
            " valid_fixed_processed_model2_final.csv\n",
            " valid_fixed_processed_model3_final.csv\n",
            " valid_fixed_processed_model4_final.csv\n"
          ],
          "name": "stdout"
        }
      ]
    },
    {
      "cell_type": "code",
      "metadata": {
        "id": "F0cbKcO1oKfG",
        "colab_type": "code",
        "colab": {}
      },
      "source": [
        "dataset_name = \"model1\"\n",
        "model_name = \"model1\"\n",
        "model_type = \"pos_neg\" #pos_neg or emotion"
      ],
      "execution_count": 0,
      "outputs": []
    },
    {
      "cell_type": "code",
      "metadata": {
        "id": "vqAW4wudoxTL",
        "colab_type": "code",
        "outputId": "913ac8df-f434-498b-9031-062e5b5cd489",
        "colab": {
          "base_uri": "https://localhost:8080/",
          "height": 70
        }
      },
      "source": [
        "import tensorflow as tf\n",
        "\n",
        "# Get the GPU device name.\n",
        "device_name = tf.test.gpu_device_name()\n",
        "\n",
        "# The device name should look like the following:\n",
        "if device_name == '/device:GPU:0':\n",
        "    print('Found GPU at: {}'.format(device_name))\n",
        "else:\n",
        "    raise SystemError('GPU device not found')\n",
        "\n",
        "import torch\n",
        "\n",
        "# If there's a GPU available...\n",
        "if torch.cuda.is_available():    \n",
        "\n",
        "    # Tell PyTorch to use the GPU.    \n",
        "    device = torch.device(\"cuda\")\n",
        "\n",
        "    print('There are %d GPU(s) available.' % torch.cuda.device_count())\n",
        "\n",
        "    print('We will use the GPU:', torch.cuda.get_device_name(0))\n",
        "\n",
        "# If not...\n",
        "else:\n",
        "    print('No GPU available, using the CPU instead.')\n",
        "    device = torch.device(\"cpu\")"
      ],
      "execution_count": 142,
      "outputs": [
        {
          "output_type": "stream",
          "text": [
            "Found GPU at: /device:GPU:0\n",
            "There are 1 GPU(s) available.\n",
            "We will use the GPU: Tesla K80\n"
          ],
          "name": "stdout"
        }
      ]
    },
    {
      "cell_type": "code",
      "metadata": {
        "id": "Q6fkdwMwpI5h",
        "colab_type": "code",
        "colab": {}
      },
      "source": [
        "import pandas as pd\n",
        "import numpy as np\n",
        "train_filename = \"Data/data_sample_fixed_processed_\" + dataset_name + \"_final.csv\"\n",
        "valid_filename = \"Data/valid_fixed_processed_\" + dataset_name + \"_final.csv\"\n",
        "test_filename = \"Data/test_fixed_processed_\" + dataset_name + \"_final.csv\"\n",
        "\n",
        "train_df = pd.read_csv(train_filename, sep='|', error_bad_lines=False)\n",
        "train_df = train_df.dropna()\n",
        "valid_df = pd.read_csv(valid_filename, sep='|', error_bad_lines=False)\n",
        "valid_df = valid_df.dropna()\n",
        "test_df = pd.read_csv(test_filename, sep='|', error_bad_lines=False)\n",
        "test_df = test_df.dropna()"
      ],
      "execution_count": 0,
      "outputs": []
    },
    {
      "cell_type": "code",
      "metadata": {
        "id": "Ifj5qHOPqKNL",
        "colab_type": "code",
        "colab": {}
      },
      "source": [
        "category2index = {\n",
        "    \"invalid\":0,\n",
        "    \"sentimental\":1,\n",
        "    \"sad\":2,\n",
        "    \"hopeful\":3,\n",
        "    \"joyful\":4,\n",
        "    \"impressed\":5,\n",
        "    \"terrified\":6,\n",
        "    \"proud\":7,\n",
        "    \"afraid\":8,\n",
        "    \"grateful\":9,\n",
        "    \"lonely\":10,\n",
        "    \"surprised\":11,\n",
        "    \"anxious\":12,\n",
        "    \"guilty\":13,\n",
        "    \"trusting\":14,\n",
        "    \"nostalgic\":15,\n",
        "    \"excited\":16,\n",
        "    \"disgusted\":17,\n",
        "    \"caring\":18,\n",
        "    \"furious\":19,\n",
        "    \"angry\":20,\n",
        "    \"prepared\":21,\n",
        "    \"disappointed\":22,\n",
        "    \"faithful\":23,\n",
        "    \"confident\":24,\n",
        "    \"apprehensive\":25,\n",
        "    \"jealous\":26,\n",
        "    \"embarrassed\":27,\n",
        "    \"devastated\":28,\n",
        "    \"annoyed\":29,\n",
        "    \"ashamed\":30,\n",
        "    \"content\":31,\n",
        "    \"anticipating\":32\n",
        "}\n",
        "index2category = {}\n",
        "for key, value in category2index.items():\n",
        "  index2category[value] = key\n",
        "\n",
        "def category2label(category):\n",
        "  for key in category2index.keys():\n",
        "    if key == category:\n",
        "      return category2index[key]\n",
        "  return 0\n",
        "\n",
        "def label2emotion(labels):\n",
        "  emotion_list = []\n",
        "  for label in labels:\n",
        "    emotion_list.append(index2category[label])\n",
        "  return emotion_list\n",
        "\n",
        "def label2category(labels):\n",
        "  emotion_list = []\n",
        "  for label in labels:\n",
        "    if label == 0:\n",
        "      emotion_list.append(\"negative\")\n",
        "    else:\n",
        "      emotion_list.append(\"positive\")\n",
        "  return emotion_list"
      ],
      "execution_count": 0,
      "outputs": []
    },
    {
      "cell_type": "code",
      "metadata": {
        "id": "qC7JGNlyqQxv",
        "colab_type": "code",
        "outputId": "498419d3-c58e-4ef0-811e-77b702613bb1",
        "colab": {
          "base_uri": "https://localhost:8080/",
          "height": 462
        }
      },
      "source": [
        "print('Number of training sentences: {:,}\\n'.format(train_df.shape[0]))\n",
        "print('Number of valid sentences: {:,}\\n'.format(valid_df.shape[0]))\n",
        "print('Number of test sentences: {:,}\\n'.format(test_df.shape[0]))\n",
        "\n",
        "if model_type == \"emotion\":\n",
        "  train_df['label'] = train_df['emotion'].apply(lambda x: int(category2label(x.lower())))\n",
        "  valid_df['label'] = valid_df['emotion'].apply(lambda x: int(category2label(x.lower())))\n",
        "  test_df['label'] = test_df['emotion'].apply(lambda x: int(category2label(x.lower())))\n",
        "else:\n",
        "  train_df['label'] = train_df['processed_emotion'].apply(lambda x: 0 if x == \"negative\" else 1)\n",
        "  valid_df['label'] = valid_df['processed_emotion'].apply(lambda x: 0 if x == \"negative\" else 1)\n",
        "  test_df['label'] = test_df['processed_emotion'].apply(lambda x: 0 if x == \"negative\" else 1)\n",
        "\n",
        "# Display 10 random rows from the data.\n",
        "train_df.sample(10)"
      ],
      "execution_count": 145,
      "outputs": [
        {
          "output_type": "stream",
          "text": [
            "Number of training sentences: 19,533\n",
            "\n",
            "Number of valid sentences: 2,763\n",
            "\n",
            "Number of test sentences: 2,542\n",
            "\n"
          ],
          "name": "stdout"
        },
        {
          "output_type": "execute_result",
          "data": {
            "text/html": [
              "<div>\n",
              "<style scoped>\n",
              "    .dataframe tbody tr th:only-of-type {\n",
              "        vertical-align: middle;\n",
              "    }\n",
              "\n",
              "    .dataframe tbody tr th {\n",
              "        vertical-align: top;\n",
              "    }\n",
              "\n",
              "    .dataframe thead th {\n",
              "        text-align: right;\n",
              "    }\n",
              "</style>\n",
              "<table border=\"1\" class=\"dataframe\">\n",
              "  <thead>\n",
              "    <tr style=\"text-align: right;\">\n",
              "      <th></th>\n",
              "      <th>emotion</th>\n",
              "      <th>processed_emotion</th>\n",
              "      <th>text</th>\n",
              "      <th>vader_neg</th>\n",
              "      <th>vader_neu</th>\n",
              "      <th>vader_pos</th>\n",
              "      <th>vader_compound</th>\n",
              "      <th>textblob</th>\n",
              "      <th>flair_value</th>\n",
              "      <th>flair_confidence</th>\n",
              "      <th>label</th>\n",
              "    </tr>\n",
              "  </thead>\n",
              "  <tbody>\n",
              "    <tr>\n",
              "      <th>5635</th>\n",
              "      <td>angry</td>\n",
              "      <td>negative</td>\n",
              "      <td>My dog pooped on the rug today. I was so mad.</td>\n",
              "      <td>0.314</td>\n",
              "      <td>0.686</td>\n",
              "      <td>0.000</td>\n",
              "      <td>-0.6269</td>\n",
              "      <td>-0.625000</td>\n",
              "      <td>NEGATIVE</td>\n",
              "      <td>0.780880</td>\n",
              "      <td>0</td>\n",
              "    </tr>\n",
              "    <tr>\n",
              "      <th>4269</th>\n",
              "      <td>excited</td>\n",
              "      <td>positive</td>\n",
              "      <td>i was happy to see that i have next week off!</td>\n",
              "      <td>0.000</td>\n",
              "      <td>0.667</td>\n",
              "      <td>0.333</td>\n",
              "      <td>0.6114</td>\n",
              "      <td>0.400000</td>\n",
              "      <td>NEGATIVE</td>\n",
              "      <td>0.588851</td>\n",
              "      <td>1</td>\n",
              "    </tr>\n",
              "    <tr>\n",
              "      <th>8457</th>\n",
              "      <td>sad</td>\n",
              "      <td>negative</td>\n",
              "      <td>My neighbor passed away a few days ago. She wa...</td>\n",
              "      <td>0.140</td>\n",
              "      <td>0.681</td>\n",
              "      <td>0.179</td>\n",
              "      <td>0.0927</td>\n",
              "      <td>0.120833</td>\n",
              "      <td>NEGATIVE</td>\n",
              "      <td>0.999842</td>\n",
              "      <td>0</td>\n",
              "    </tr>\n",
              "    <tr>\n",
              "      <th>9162</th>\n",
              "      <td>anticipating</td>\n",
              "      <td>positive</td>\n",
              "      <td>I just got a new apartment and I don't move in...</td>\n",
              "      <td>0.000</td>\n",
              "      <td>0.907</td>\n",
              "      <td>0.093</td>\n",
              "      <td>0.4753</td>\n",
              "      <td>0.197273</td>\n",
              "      <td>POSITIVE</td>\n",
              "      <td>0.986206</td>\n",
              "      <td>1</td>\n",
              "    </tr>\n",
              "    <tr>\n",
              "      <th>12041</th>\n",
              "      <td>lonely</td>\n",
              "      <td>negative</td>\n",
              "      <td>in my room no one here</td>\n",
              "      <td>0.306</td>\n",
              "      <td>0.694</td>\n",
              "      <td>0.000</td>\n",
              "      <td>-0.2960</td>\n",
              "      <td>0.000000</td>\n",
              "      <td>NEGATIVE</td>\n",
              "      <td>0.513718</td>\n",
              "      <td>0</td>\n",
              "    </tr>\n",
              "    <tr>\n",
              "      <th>9029</th>\n",
              "      <td>terrified</td>\n",
              "      <td>negative</td>\n",
              "      <td>I was so scared to go on my first roller coast...</td>\n",
              "      <td>0.186</td>\n",
              "      <td>0.814</td>\n",
              "      <td>0.000</td>\n",
              "      <td>-0.4927</td>\n",
              "      <td>-0.175000</td>\n",
              "      <td>POSITIVE</td>\n",
              "      <td>0.677218</td>\n",
              "      <td>0</td>\n",
              "    </tr>\n",
              "    <tr>\n",
              "      <th>13481</th>\n",
              "      <td>guilty</td>\n",
              "      <td>negative</td>\n",
              "      <td>I got into a fight with a homeless man yesterd...</td>\n",
              "      <td>0.371</td>\n",
              "      <td>0.629</td>\n",
              "      <td>0.000</td>\n",
              "      <td>-0.7959</td>\n",
              "      <td>-0.433333</td>\n",
              "      <td>NEGATIVE</td>\n",
              "      <td>0.968174</td>\n",
              "      <td>0</td>\n",
              "    </tr>\n",
              "    <tr>\n",
              "      <th>9926</th>\n",
              "      <td>devastated</td>\n",
              "      <td>negative</td>\n",
              "      <td>There was a small kitten that was hanging arou...</td>\n",
              "      <td>0.000</td>\n",
              "      <td>0.878</td>\n",
              "      <td>0.122</td>\n",
              "      <td>0.6486</td>\n",
              "      <td>-0.250000</td>\n",
              "      <td>NEGATIVE</td>\n",
              "      <td>0.910280</td>\n",
              "      <td>0</td>\n",
              "    </tr>\n",
              "    <tr>\n",
              "      <th>17719</th>\n",
              "      <td>angry</td>\n",
              "      <td>negative</td>\n",
              "      <td>A couple years ago someone tried to steal my p...</td>\n",
              "      <td>0.393</td>\n",
              "      <td>0.607</td>\n",
              "      <td>0.000</td>\n",
              "      <td>-0.8420</td>\n",
              "      <td>-0.233333</td>\n",
              "      <td>POSITIVE</td>\n",
              "      <td>0.989694</td>\n",
              "      <td>0</td>\n",
              "    </tr>\n",
              "    <tr>\n",
              "      <th>2408</th>\n",
              "      <td>confident</td>\n",
              "      <td>positive</td>\n",
              "      <td>I have my final physics exam tomorrow. Never f...</td>\n",
              "      <td>0.000</td>\n",
              "      <td>0.828</td>\n",
              "      <td>0.172</td>\n",
              "      <td>0.3593</td>\n",
              "      <td>0.000000</td>\n",
              "      <td>POSITIVE</td>\n",
              "      <td>0.980265</td>\n",
              "      <td>1</td>\n",
              "    </tr>\n",
              "  </tbody>\n",
              "</table>\n",
              "</div>"
            ],
            "text/plain": [
              "            emotion processed_emotion  ... flair_confidence  label\n",
              "5635          angry          negative  ...         0.780880      0\n",
              "4269        excited          positive  ...         0.588851      1\n",
              "8457            sad          negative  ...         0.999842      0\n",
              "9162   anticipating          positive  ...         0.986206      1\n",
              "12041        lonely          negative  ...         0.513718      0\n",
              "9029      terrified          negative  ...         0.677218      0\n",
              "13481        guilty          negative  ...         0.968174      0\n",
              "9926     devastated          negative  ...         0.910280      0\n",
              "17719         angry          negative  ...         0.989694      0\n",
              "2408      confident          positive  ...         0.980265      1\n",
              "\n",
              "[10 rows x 11 columns]"
            ]
          },
          "metadata": {
            "tags": []
          },
          "execution_count": 145
        }
      ]
    },
    {
      "cell_type": "code",
      "metadata": {
        "id": "pPQeXgNmrpRa",
        "colab_type": "code",
        "colab": {}
      },
      "source": [
        "sentences_train = train_df.text.values\n",
        "labels_train = train_df.label.values\n",
        "sentences_valid = valid_df.text.values\n",
        "labels_valid = valid_df.label.values\n",
        "sentences_test = test_df.text.values\n",
        "labels_test = test_df.label.values"
      ],
      "execution_count": 0,
      "outputs": []
    },
    {
      "cell_type": "code",
      "metadata": {
        "id": "1Ixqmd-SsFNa",
        "colab_type": "code",
        "outputId": "f14fdd10-b0da-48d7-ff97-0339bf5c9b8d",
        "colab": {
          "base_uri": "https://localhost:8080/",
          "height": 35
        }
      },
      "source": [
        "from transformers import BertTokenizer\n",
        "\n",
        "# Load the BERT tokenizer.\n",
        "print('Loading BERT tokenizer...')\n",
        "tokenizer = BertTokenizer.from_pretrained('bert-base-uncased', do_lower_case=True)\n",
        "\n",
        "longer_list = []\n",
        "for index, sent in enumerate(sentences_train):\n",
        "  if len(tokenizer.encode(sent, add_special_tokens=True)) > 500:\n",
        "    longer_list.append(index)\n",
        "sentences_train = np.delete(sentences_train, longer_list)\n",
        "labels_train = np.delete(labels_train, longer_list)\n",
        "\n",
        "def tokenize(sentences, labels):\n",
        "  # Tokenize all of the sentences and map the tokens to thier word IDs.\n",
        "  input_ids = []\n",
        "  attention_masks = []\n",
        "\n",
        "  # For every sentence...\n",
        "  for sent in sentences:\n",
        "      # `encode_plus` will:\n",
        "      #   (1) Tokenize the sentence.\n",
        "      #   (2) Prepend the `[CLS]` token to the start.\n",
        "      #   (3) Append the `[SEP]` token to the end.\n",
        "      #   (4) Map tokens to their IDs.\n",
        "      #   (5) Pad or truncate the sentence to `max_length`\n",
        "      #   (6) Create attention masks for [PAD] tokens.\n",
        "\n",
        "      encoded_dict = tokenizer.encode_plus(\n",
        "                          sent,                      # Sentence to encode.\n",
        "                          add_special_tokens = True, # Add '[CLS]' and '[SEP]'\n",
        "                          max_length = 256,           # Pad & truncate all sentences.\n",
        "                          pad_to_max_length = True,\n",
        "                          return_attention_mask = True,   # Construct attn. masks.\n",
        "                          return_tensors = 'pt',     # Return pytorch tensors.\n",
        "                    )\n",
        "      \n",
        "      # Add the encoded sentence to the list.    \n",
        "      input_ids.append(encoded_dict['input_ids'])\n",
        "      \n",
        "      # And its attention mask (simply differentiates padding from non-padding).\n",
        "      attention_masks.append(encoded_dict['attention_mask'])\n",
        "\n",
        "  # Convert the lists into tensors.\n",
        "  input_ids = torch.cat(input_ids, dim=0)\n",
        "  attention_masks = torch.cat(attention_masks, dim=0)\n",
        "  labels = torch.from_numpy(labels)\n",
        "\n",
        "  return(input_ids, attention_masks, labels)\n",
        "\n",
        "input_ids_train, attention_masks_train, labels_train = tokenize(sentences_train, labels_train)\n",
        "input_ids_valid, attention_masks_valid, labels_valid = tokenize(sentences_valid, labels_valid)\n",
        "input_ids_test, attention_masks_test, labels_test = tokenize(sentences_test, labels_test)"
      ],
      "execution_count": 147,
      "outputs": [
        {
          "output_type": "stream",
          "text": [
            "Loading BERT tokenizer...\n"
          ],
          "name": "stdout"
        }
      ]
    },
    {
      "cell_type": "code",
      "metadata": {
        "id": "z0SzIxf0s51S",
        "colab_type": "code",
        "outputId": "87a65e59-fb39-42bc-f89a-7876127549d4",
        "colab": {
          "base_uri": "https://localhost:8080/",
          "height": 70
        }
      },
      "source": [
        "from torch.utils.data import TensorDataset, random_split\n",
        "\n",
        "# Combine the training inputs into a TensorDataset.\n",
        "dataset_train = TensorDataset(input_ids_train, attention_masks_train, labels_train)\n",
        "dataset_valid = TensorDataset(input_ids_valid, attention_masks_valid, labels_valid)\n",
        "dataset_test = TensorDataset(input_ids_test, attention_masks_test, labels_test)\n",
        "\n",
        "#Use the given training and validation datasets\n",
        "train_dataset, val_dataset = dataset_train, dataset_valid\n",
        "\n",
        "print('{:>5,} training samples'.format(len(train_dataset)))\n",
        "print('{:>5,} validation samples'.format(len(val_dataset)))\n",
        "print('{:>5,} test samples'.format(len(dataset_test)))"
      ],
      "execution_count": 148,
      "outputs": [
        {
          "output_type": "stream",
          "text": [
            "19,533 training samples\n",
            "2,763 validation samples\n",
            "2,542 test samples\n"
          ],
          "name": "stdout"
        }
      ]
    },
    {
      "cell_type": "code",
      "metadata": {
        "id": "X-Gydj5OtXt6",
        "colab_type": "code",
        "colab": {
          "base_uri": "https://localhost:8080/",
          "height": 35
        },
        "outputId": "08e00448-0517-4656-85c2-0c65b38a5563"
      },
      "source": [
        "from transformers import BertForSequenceClassification, BertTokenizer\n",
        "output_dir = \"./\" + model_type + \"_\" + model_name + \"_save/\"\n",
        "\n",
        "# Load a trained model and vocabulary that you have fine-tuned\n",
        "model = BertForSequenceClassification.from_pretrained(output_dir)\n",
        "tokenizer = BertTokenizer.from_pretrained(output_dir)\n",
        "\n",
        "# Copy the model to the GPU.\n",
        "model.to(device)\n",
        "\n",
        "print(model_type + \"_\" + model_name + \" loaded...\")"
      ],
      "execution_count": 149,
      "outputs": [
        {
          "output_type": "stream",
          "text": [
            "pos_neg_model1 loaded...\n"
          ],
          "name": "stdout"
        }
      ]
    },
    {
      "cell_type": "code",
      "metadata": {
        "id": "_jHcY7NItPZI",
        "colab_type": "code",
        "outputId": "d6803ccf-d341-423e-c964-965a1a82dc96",
        "colab": {
          "base_uri": "https://localhost:8080/",
          "height": 123
        }
      },
      "source": [
        "from torch.utils.data import DataLoader, RandomSampler, SequentialSampler\n",
        "batch_size = 32\n",
        "\n",
        "def predict(dataset):\n",
        "\n",
        "  # Create the DataLoader for  dataset.\n",
        "  prediction_data = dataset\n",
        "  prediction_sampler = SequentialSampler(prediction_data)\n",
        "  prediction_dataloader = DataLoader(prediction_data, sampler=prediction_sampler, batch_size=batch_size)\n",
        "\n",
        "\n",
        "  # Prediction on test set\n",
        "\n",
        "  print('Predicting labels for {:,} sentences...'.format(len(dataset)))\n",
        "\n",
        "  # Put model in evaluation mode\n",
        "  model.eval()\n",
        "\n",
        "  # Tracking variables \n",
        "  predictions , true_labels = [], []\n",
        "\n",
        "  # Predict \n",
        "  for batch in prediction_dataloader:\n",
        "    # Add batch to GPU\n",
        "    batch = tuple(t.to(device) for t in batch)\n",
        "    \n",
        "    # Unpack the inputs from our dataloader\n",
        "    b_input_ids, b_input_mask, b_labels = batch\n",
        "    \n",
        "    # Telling the model not to compute or store gradients, saving memory and \n",
        "    # speeding up prediction\n",
        "    with torch.no_grad():\n",
        "        # Forward pass, calculate logit predictions\n",
        "        outputs = model(b_input_ids, token_type_ids=None, \n",
        "                        attention_mask=b_input_mask)\n",
        "\n",
        "    logits = outputs[0]\n",
        "\n",
        "    # Move logits and labels to CPU\n",
        "    logits = logits.detach().cpu().numpy()\n",
        "    label_ids = b_labels.to('cpu').numpy()\n",
        "    \n",
        "    # Store predictions and true labels\n",
        "    predictions.append(logits)\n",
        "    true_labels.append(label_ids)\n",
        "\n",
        "  print('DONE.')\n",
        "  return predictions, true_labels\n",
        "\n",
        "test_predictions, test_true_labels = predict(dataset_test)\n",
        "valid_predictions, valid_true_labels = predict(dataset_valid)\n",
        "train_predictions, train_true_labels = predict(dataset_train)"
      ],
      "execution_count": 150,
      "outputs": [
        {
          "output_type": "stream",
          "text": [
            "Predicting labels for 2,542 sentences...\n",
            "DONE.\n",
            "Predicting labels for 2,763 sentences...\n",
            "DONE.\n",
            "Predicting labels for 19,533 sentences...\n",
            "DONE.\n"
          ],
          "name": "stdout"
        }
      ]
    },
    {
      "cell_type": "code",
      "metadata": {
        "id": "ntNnvi6kve9R",
        "colab_type": "code",
        "outputId": "64365594-06d7-4036-f075-1f8f0ab0b3fe",
        "colab": {
          "base_uri": "https://localhost:8080/",
          "height": 598
        }
      },
      "source": [
        "from sklearn.metrics import classification_report, accuracy_score\n",
        "\n",
        "def metrics(predictions, true_labels):\n",
        "  for i in range(len(predictions)):\n",
        "    if i == 0:\n",
        "      pred_flat = np.argmax(predictions[i], axis=1).flatten()\n",
        "      confidence_flat = np.amax(predictions[i], axis=1).flatten()\n",
        "      labels_flat = true_labels[i].flatten()\n",
        "    else:\n",
        "      pred_flat = np.append(pred_flat, np.argmax(predictions[i], axis=1).flatten())\n",
        "      confidence_flat = np.append(confidence_flat, np.amax(predictions[i], axis=1).flatten())\n",
        "      labels_flat = np.append(labels_flat, true_labels[i].flatten())\n",
        "\n",
        "  if model_type == \"emotion\":\n",
        "    pred_flat = label2emotion(pred_flat)\n",
        "    labels_flat = label2emotion(labels_flat)\n",
        "  else:\n",
        "    pred_flat = label2category(pred_flat)\n",
        "    labels_flat = label2category(labels_flat)\n",
        "  print(\"Classwise Report\")\n",
        "  print(classification_report(labels_flat, pred_flat))\n",
        "  return pred_flat, confidence_flat, labels_flat\n",
        "print(\"Metrics on testing set\")\n",
        "pred_flat_test, confidence_flat_test, labels_flat_test = metrics(test_predictions, test_true_labels)\n",
        "print(\"Metrics on validation set\")\n",
        "pred_flat_valid, confidence_flat_valid, labels_flat_valid = metrics(valid_predictions, valid_true_labels)\n",
        "print(\"Metrics on training set\")\n",
        "pred_flat_train, confidence_flat_train, labels_flat_train = metrics(train_predictions, train_true_labels)"
      ],
      "execution_count": 151,
      "outputs": [
        {
          "output_type": "stream",
          "text": [
            "Metrics on testing set\n",
            "Classwise Report\n",
            "              precision    recall  f1-score   support\n",
            "\n",
            "    negative       0.90      0.91      0.90      1227\n",
            "    positive       0.91      0.90      0.91      1315\n",
            "\n",
            "    accuracy                           0.91      2542\n",
            "   macro avg       0.91      0.91      0.91      2542\n",
            "weighted avg       0.91      0.91      0.91      2542\n",
            "\n",
            "Metrics on validation set\n",
            "Classwise Report\n",
            "              precision    recall  f1-score   support\n",
            "\n",
            "    negative       0.90      0.90      0.90      1377\n",
            "    positive       0.90      0.90      0.90      1386\n",
            "\n",
            "    accuracy                           0.90      2763\n",
            "   macro avg       0.90      0.90      0.90      2763\n",
            "weighted avg       0.90      0.90      0.90      2763\n",
            "\n",
            "Metrics on training set\n",
            "Classwise Report\n",
            "              precision    recall  f1-score   support\n",
            "\n",
            "    negative       1.00      1.00      1.00      9673\n",
            "    positive       1.00      1.00      1.00      9860\n",
            "\n",
            "    accuracy                           1.00     19533\n",
            "   macro avg       1.00      1.00      1.00     19533\n",
            "weighted avg       1.00      1.00      1.00     19533\n",
            "\n"
          ],
          "name": "stdout"
        }
      ]
    },
    {
      "cell_type": "code",
      "metadata": {
        "id": "CYsYQdEAhX_J",
        "colab_type": "code",
        "outputId": "32327758-7681-41bc-a786-72b9908bd25c",
        "colab": {
          "base_uri": "https://localhost:8080/",
          "height": 417
        }
      },
      "source": [
        "if model_type == \"emotion\":\n",
        "  final_train_df['emotion_actual'] = pd.DataFrame(labels_flat_train, columns=['emotion_actual'])\n",
        "  final_train_df['emotion_pred'] = pd.DataFrame(pred_flat_train, columns=['emotion_pred'])\n",
        "  final_valid_df['emotion_actual'] = pd.DataFrame(labels_flat_valid, columns=['emotion_actual'])\n",
        "  final_valid_df['emotion_pred'] = pd.DataFrame(pred_flat_valid, columns=['emotion_pred'])\n",
        "  final_test_df['emotion_actual'] = pd.DataFrame(labels_flat_test, columns=['emotion_actual'])\n",
        "  final_test_df['emotion_pred'] = pd.DataFrame(pred_flat_test, columns=['emotion_pred'])\n",
        "else:\n",
        "  final_train_df = pd.DataFrame(sentences_train, columns=['sentences'])\n",
        "  final_train_df['pos_neg_actual'] = pd.DataFrame(labels_flat_train, columns=['pos_neg_actual'])\n",
        "  final_train_df['pos_neg_pred'] = pd.DataFrame(pred_flat_train, columns=['pos_neg_pred'])\n",
        "  final_valid_df = pd.DataFrame(sentences_valid, columns=['sentences'])\n",
        "  final_valid_df['pos_neg_actual'] = pd.DataFrame(labels_flat_valid, columns=['pos_neg_actual'])\n",
        "  final_valid_df['pos_neg_pred'] = pd.DataFrame(pred_flat_valid, columns=['pos_neg_pred'])\n",
        "  final_test_df = pd.DataFrame(sentences_test, columns=['sentences'])\n",
        "  final_test_df['pos_neg_actual'] = pd.DataFrame(labels_flat_test, columns=['pos_neg_actual'])\n",
        "  final_test_df['pos_neg_pred'] = pd.DataFrame(pred_flat_test, columns=['pos_neg_pred'])\n",
        "final_train_df"
      ],
      "execution_count": 139,
      "outputs": [
        {
          "output_type": "execute_result",
          "data": {
            "text/html": [
              "<div>\n",
              "<style scoped>\n",
              "    .dataframe tbody tr th:only-of-type {\n",
              "        vertical-align: middle;\n",
              "    }\n",
              "\n",
              "    .dataframe tbody tr th {\n",
              "        vertical-align: top;\n",
              "    }\n",
              "\n",
              "    .dataframe thead th {\n",
              "        text-align: right;\n",
              "    }\n",
              "</style>\n",
              "<table border=\"1\" class=\"dataframe\">\n",
              "  <thead>\n",
              "    <tr style=\"text-align: right;\">\n",
              "      <th></th>\n",
              "      <th>sentences</th>\n",
              "      <th>pos_neg_actual</th>\n",
              "      <th>pos_neg_pred</th>\n",
              "      <th>emotion_actual</th>\n",
              "      <th>emotion_pred</th>\n",
              "    </tr>\n",
              "  </thead>\n",
              "  <tbody>\n",
              "    <tr>\n",
              "      <th>0</th>\n",
              "      <td>I remember going to the fireworks with my best...</td>\n",
              "      <td>positive</td>\n",
              "      <td>positive</td>\n",
              "      <td>sentimental</td>\n",
              "      <td>sentimental</td>\n",
              "    </tr>\n",
              "    <tr>\n",
              "      <th>1</th>\n",
              "      <td>One year during christmas_comma_ i did not get...</td>\n",
              "      <td>negative</td>\n",
              "      <td>negative</td>\n",
              "      <td>sad</td>\n",
              "      <td>sad</td>\n",
              "    </tr>\n",
              "    <tr>\n",
              "      <th>2</th>\n",
              "      <td>I have been in college for four years and am o...</td>\n",
              "      <td>positive</td>\n",
              "      <td>positive</td>\n",
              "      <td>hopeful</td>\n",
              "      <td>hopeful</td>\n",
              "    </tr>\n",
              "    <tr>\n",
              "      <th>3</th>\n",
              "      <td>You never know how happy you can be until you ...</td>\n",
              "      <td>positive</td>\n",
              "      <td>positive</td>\n",
              "      <td>joyful</td>\n",
              "      <td>joyful</td>\n",
              "    </tr>\n",
              "    <tr>\n",
              "      <th>4</th>\n",
              "      <td>the redsox have a chance to break the amount o...</td>\n",
              "      <td>positive</td>\n",
              "      <td>positive</td>\n",
              "      <td>impressed</td>\n",
              "      <td>impressed</td>\n",
              "    </tr>\n",
              "    <tr>\n",
              "      <th>...</th>\n",
              "      <td>...</td>\n",
              "      <td>...</td>\n",
              "      <td>...</td>\n",
              "      <td>...</td>\n",
              "      <td>...</td>\n",
              "    </tr>\n",
              "    <tr>\n",
              "      <th>19525</th>\n",
              "      <td>living out in the country when it gets dark it...</td>\n",
              "      <td>negative</td>\n",
              "      <td>negative</td>\n",
              "      <td>afraid</td>\n",
              "      <td>afraid</td>\n",
              "    </tr>\n",
              "    <tr>\n",
              "      <th>19526</th>\n",
              "      <td>I took my boots off after a long day of workin...</td>\n",
              "      <td>positive</td>\n",
              "      <td>positive</td>\n",
              "      <td>trusting</td>\n",
              "      <td>embarrassed</td>\n",
              "    </tr>\n",
              "    <tr>\n",
              "      <th>19527</th>\n",
              "      <td>Anytime I see a mall_comma_ I get nostalgic ab...</td>\n",
              "      <td>positive</td>\n",
              "      <td>positive</td>\n",
              "      <td>nostalgic</td>\n",
              "      <td>nostalgic</td>\n",
              "    </tr>\n",
              "    <tr>\n",
              "      <th>19528</th>\n",
              "      <td>i cant wait to play the new madden_comma_ ive ...</td>\n",
              "      <td>positive</td>\n",
              "      <td>positive</td>\n",
              "      <td>anticipating</td>\n",
              "      <td>anticipating</td>\n",
              "    </tr>\n",
              "    <tr>\n",
              "      <th>19529</th>\n",
              "      <td>I'm faithful I'm going down the right career p...</td>\n",
              "      <td>positive</td>\n",
              "      <td>positive</td>\n",
              "      <td>faithful</td>\n",
              "      <td>faithful</td>\n",
              "    </tr>\n",
              "  </tbody>\n",
              "</table>\n",
              "<p>19530 rows × 5 columns</p>\n",
              "</div>"
            ],
            "text/plain": [
              "                                               sentences  ...  emotion_pred\n",
              "0      I remember going to the fireworks with my best...  ...   sentimental\n",
              "1      One year during christmas_comma_ i did not get...  ...           sad\n",
              "2      I have been in college for four years and am o...  ...       hopeful\n",
              "3      You never know how happy you can be until you ...  ...        joyful\n",
              "4      the redsox have a chance to break the amount o...  ...     impressed\n",
              "...                                                  ...  ...           ...\n",
              "19525  living out in the country when it gets dark it...  ...        afraid\n",
              "19526  I took my boots off after a long day of workin...  ...   embarrassed\n",
              "19527  Anytime I see a mall_comma_ I get nostalgic ab...  ...     nostalgic\n",
              "19528  i cant wait to play the new madden_comma_ ive ...  ...  anticipating\n",
              "19529  I'm faithful I'm going down the right career p...  ...      faithful\n",
              "\n",
              "[19530 rows x 5 columns]"
            ]
          },
          "metadata": {
            "tags": []
          },
          "execution_count": 139
        }
      ]
    },
    {
      "cell_type": "code",
      "metadata": {
        "id": "7Tq02Wc3lNJk",
        "colab_type": "code",
        "colab": {}
      },
      "source": [
        ""
      ],
      "execution_count": 0,
      "outputs": []
    },
    {
      "cell_type": "code",
      "metadata": {
        "id": "qc62OZlhox9m",
        "colab_type": "code",
        "colab": {}
      },
      "source": [
        "final_train_df.to_csv(\"Data/\" + model_name + \"_\" + \"predictions_train.csv\", index=False)\n",
        "final_valid_df.to_csv(\"Data/\" + model_name + \"_\" + \"predictions_valid.csv\", index=False)\n",
        "final_test_df.to_csv(\"Data/\" + model_name + \"_\" + \"predictions_test.csv\", index=False)"
      ],
      "execution_count": 0,
      "outputs": []
    }
  ]
}