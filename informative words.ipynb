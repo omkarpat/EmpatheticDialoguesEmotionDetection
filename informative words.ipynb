{
 "cells": [
  {
   "cell_type": "code",
   "execution_count": 108,
   "metadata": {
    "collapsed": true
   },
   "outputs": [
    {
     "name": "stderr",
     "output_type": "stream",
     "text": [
      "[nltk_data] Downloading package punkt to\n",
      "[nltk_data]     C:\\Users\\skr\\AppData\\Roaming\\nltk_data...\n",
      "[nltk_data]   Unzipping tokenizers\\punkt.zip.\n",
      "[nltk_data] Downloading package stopwords to\n",
      "[nltk_data]     C:\\Users\\skr\\AppData\\Roaming\\nltk_data...\n",
      "[nltk_data]   Package stopwords is already up-to-date!\n"
     ]
    }
   ],
   "source": [
    "import collections\n",
    "import numpy as np\n",
    "import pandas as pd\n",
    "from os import path\n",
    "import nltk\n",
    "from nltk import FreqDist\n",
    "from nltk.tokenize import word_tokenize \n",
    "nltk.download('stopwords')\n",
    "import matplotlib.pyplot as plt\n",
    "%matplotlib inline\n",
    "\n",
    "\n",
    "# for stopwords\n",
    "stop_words = set(stopwords.words('english')) \n",
    "\n"
   ]
  },
  {
   "cell_type": "code",
   "execution_count": 43,
   "metadata": {
    "collapsed": true
   },
   "outputs": [
    {
     "data": {
      "text/html": [
       "<div>\n",
       "<style scoped>\n",
       "    .dataframe tbody tr th:only-of-type {\n",
       "        vertical-align: middle;\n",
       "    }\n",
       "\n",
       "    .dataframe tbody tr th {\n",
       "        vertical-align: top;\n",
       "    }\n",
       "\n",
       "    .dataframe thead th {\n",
       "        text-align: right;\n",
       "    }\n",
       "</style>\n",
       "<table border=\"1\" class=\"dataframe\">\n",
       "  <thead>\n",
       "    <tr style=\"text-align: right;\">\n",
       "      <th></th>\n",
       "      <th>conv_id</th>\n",
       "      <th>turn</th>\n",
       "      <th>speaker_type</th>\n",
       "      <th>context</th>\n",
       "      <th>prompt</th>\n",
       "      <th>speaker_idx</th>\n",
       "      <th>utterance</th>\n",
       "    </tr>\n",
       "  </thead>\n",
       "  <tbody>\n",
       "    <tr>\n",
       "      <th>0</th>\n",
       "      <td>hit:0_conv:1</td>\n",
       "      <td>2</td>\n",
       "      <td>listener</td>\n",
       "      <td>sentimental</td>\n",
       "      <td>I remember going to the fireworks with my best...</td>\n",
       "      <td>0</td>\n",
       "      <td>Was this a friend you were in love with_comma_...</td>\n",
       "    </tr>\n",
       "    <tr>\n",
       "      <th>1</th>\n",
       "      <td>hit:0_conv:1</td>\n",
       "      <td>3</td>\n",
       "      <td>speaker</td>\n",
       "      <td>sentimental</td>\n",
       "      <td>I remember going to the fireworks with my best...</td>\n",
       "      <td>1</td>\n",
       "      <td>This was a best friend. I miss her.</td>\n",
       "    </tr>\n",
       "    <tr>\n",
       "      <th>2</th>\n",
       "      <td>hit:0_conv:1</td>\n",
       "      <td>4</td>\n",
       "      <td>listener</td>\n",
       "      <td>sentimental</td>\n",
       "      <td>I remember going to the fireworks with my best...</td>\n",
       "      <td>0</td>\n",
       "      <td>Where has she gone?</td>\n",
       "    </tr>\n",
       "    <tr>\n",
       "      <th>3</th>\n",
       "      <td>hit:0_conv:1</td>\n",
       "      <td>5</td>\n",
       "      <td>speaker</td>\n",
       "      <td>sentimental</td>\n",
       "      <td>I remember going to the fireworks with my best...</td>\n",
       "      <td>1</td>\n",
       "      <td>We no longer talk.</td>\n",
       "    </tr>\n",
       "    <tr>\n",
       "      <th>4</th>\n",
       "      <td>hit:0_conv:1</td>\n",
       "      <td>6</td>\n",
       "      <td>listener</td>\n",
       "      <td>sentimental</td>\n",
       "      <td>I remember going to the fireworks with my best...</td>\n",
       "      <td>0</td>\n",
       "      <td>Oh was this something that happened because of...</td>\n",
       "    </tr>\n",
       "  </tbody>\n",
       "</table>\n",
       "</div>"
      ],
      "text/plain": [
       "        conv_id  turn speaker_type      context  \\\n",
       "0  hit:0_conv:1     2     listener  sentimental   \n",
       "1  hit:0_conv:1     3      speaker  sentimental   \n",
       "2  hit:0_conv:1     4     listener  sentimental   \n",
       "3  hit:0_conv:1     5      speaker  sentimental   \n",
       "4  hit:0_conv:1     6     listener  sentimental   \n",
       "\n",
       "                                              prompt  speaker_idx  \\\n",
       "0  I remember going to the fireworks with my best...            0   \n",
       "1  I remember going to the fireworks with my best...            1   \n",
       "2  I remember going to the fireworks with my best...            0   \n",
       "3  I remember going to the fireworks with my best...            1   \n",
       "4  I remember going to the fireworks with my best...            0   \n",
       "\n",
       "                                           utterance  \n",
       "0  Was this a friend you were in love with_comma_...  \n",
       "1                This was a best friend. I miss her.  \n",
       "2                                Where has she gone?  \n",
       "3                                 We no longer talk.  \n",
       "4  Oh was this something that happened because of...  "
      ]
     },
     "execution_count": 43,
     "metadata": {},
     "output_type": "execute_result"
    }
   ],
   "source": [
    "# load dataframe\n",
    "df = pd.read_csv(\"C:/Users/skr/OneDrive/Documents/fixed_train_516.csv\", dtype={'conv_id': 'str', 'utterance': 'int', 'speaker_type': 'str', 'context': 'str', 'prompt':'str', 'speaker_idx': 'int'}, header = 1, encoding = \"iso-8859-1\")\n",
    "df.columns = ['conv_id','turn','speaker_type','context','prompt','speaker_idx','utterance']\n",
    "df_top = df.head() \n",
    "df_top"
   ]
  },
  {
   "cell_type": "code",
   "execution_count": 120,
   "metadata": {
    "collapsed": true
   },
   "outputs": [],
   "source": [
    "# Function to get the x most frequent words\n",
    "\n",
    "def gettop20(lst):\n",
    "    str(lst)\n",
    "    lst_clean1 = lst.replace(\"_comma_\",\"\")\n",
    "    lst_clean2 = lst_clean1.lower()\n",
    "    lst_model = lst_clean2.split()\n",
    "    lst_model = [w for w in lst_model if not w in stop_words]\n",
    "    fd_model = FreqDist(lst_model)\n",
    "    output = fd_model.most_common(20)\n",
    "    return(output)"
   ]
  },
  {
   "cell_type": "code",
   "execution_count": 133,
   "metadata": {
    "collapsed": true
   },
   "outputs": [],
   "source": [
    "# ALL CONTEXTS GET TOP WORDS\n",
    "\n",
    "all_utt = ','.join(df.prompt)\n",
    "all_top = gettop20(all_utt)\n",
    "all_topwords = [i[0] for i in all_top]"
   ]
  },
  {
   "cell_type": "code",
   "execution_count": 135,
   "metadata": {
    "collapsed": true
   },
   "outputs": [],
   "source": [
    "# Function to get the x most frequent words that aren't in the top x across all contexts\n",
    "\n",
    "def gettop20_distinct(lst):\n",
    "    str(lst)\n",
    "    lst_clean1 = lst.replace(\"_comma_\",\"\")\n",
    "    lst_clean2 = lst_clean1.lower()\n",
    "    lst_model = lst_clean2.split()\n",
    "    lst_model = [w for w in lst_model if not w in stop_words]\n",
    "    lst_model = [w for w in lst_model if not w in all_topwords]\n",
    "    fd_model = FreqDist(lst_model)\n",
    "    output = fd_model.most_common(20)\n",
    "    return(output)"
   ]
  },
  {
   "cell_type": "code",
   "execution_count": 87,
   "metadata": {
    "collapsed": true
   },
   "outputs": [
    {
     "data": {
      "text/plain": [
       "[('I', 6800),\n",
       " ('got', 780),\n",
       " ('going', 740),\n",
       " ('really', 693),\n",
       " ('get', 673),\n",
       " ('new', 660),\n",
       " ('It', 531),\n",
       " ('happy', 477),\n",
       " ('old', 475),\n",
       " ('friend', 471),\n",
       " ('good', 470),\n",
       " ('time', 465),\n",
       " (\"I'm\", 457),\n",
       " ('went', 413),\n",
       " ('last', 399),\n",
       " ('go', 393),\n",
       " ('day', 364),\n",
       " ('work', 352),\n",
       " ('back', 348),\n",
       " ('like', 344),\n",
       " ('wait', 337),\n",
       " (\"can't\", 337),\n",
       " ('first', 335),\n",
       " (',I', 334),\n",
       " ('ready', 327),\n",
       " ('think', 322),\n",
       " ('feel', 308),\n",
       " ('see', 308),\n",
       " ('felt', 304),\n",
       " ('job', 300),\n",
       " ('would', 297),\n",
       " ('found', 289),\n",
       " ('next', 288),\n",
       " ('one', 272),\n",
       " ('always', 269),\n",
       " ('home', 254),\n",
       " ('looking', 251),\n",
       " ('made', 243),\n",
       " ('know', 243),\n",
       " ('love', 240),\n",
       " ('great', 230),\n",
       " ('family', 227),\n",
       " ('school', 225),\n",
       " ('getting', 223),\n",
       " ('week', 220),\n",
       " ('car', 214),\n",
       " ('friends', 209),\n",
       " ('never', 202),\n",
       " ('much', 201),\n",
       " ('saw', 201)]"
      ]
     },
     "execution_count": 87,
     "metadata": {},
     "output_type": "execute_result"
    }
   ],
   "source": [
    "# POSITIVE WORDS\n",
    "\n",
    "pos = df[df['context'].isin([\"surprised\",\"anticipating\",\"joyful\",\"excited\",\"trusting\",\"confident\",\"impressed\",\"nostalgic\",\"prepared\",\"sentimental\",\"grateful\",\"hopeful\",\"content\",\"caring\",\"faithful\"])]\n",
    "\n",
    "# get first utterances only\n",
    "pos_utt_1 = pos[pos[\"turn\"] == 1]\n",
    "\n",
    "#get speaker utterances only\n",
    "pos_utt_speaker = pos[pos[\"speaker_type\"] == \"speaker\"]\n",
    "\n"
   ]
  },
  {
   "cell_type": "code",
   "execution_count": 144,
   "metadata": {
    "collapsed": true
   },
   "outputs": [
    {
     "data": {
      "text/plain": [
       "[('happy', 480),\n",
       " ('old', 475),\n",
       " ('back', 349),\n",
       " ('first', 339),\n",
       " ('wait', 337),\n",
       " ('ready', 329),\n",
       " ('think', 328),\n",
       " ('see', 308),\n",
       " ('would', 300),\n",
       " ('job', 300),\n",
       " ('found', 289),\n",
       " ('next', 289),\n",
       " ('always', 270),\n",
       " ('looking', 255),\n",
       " ('home', 254),\n",
       " ('made', 250),\n",
       " ('know', 244),\n",
       " ('love', 242),\n",
       " ('great', 231),\n",
       " ('school', 229)]"
      ]
     },
     "execution_count": 144,
     "metadata": {},
     "output_type": "execute_result"
    }
   ],
   "source": [
    "# FREQDIST FOR POSITIVE MODEL 1\n",
    "\n",
    "#prompt only\n",
    "pos_model1 = ','.join(pos_utt_1.prompt)\n",
    "gettop20_distinct(pos_model1)"
   ]
  },
  {
   "cell_type": "code",
   "execution_count": 139,
   "metadata": {
    "collapsed": true
   },
   "outputs": [
    {
     "data": {
      "text/plain": [
       "[('happy', 413),\n",
       " ('old', 408),\n",
       " ('back', 349),\n",
       " ('first', 317),\n",
       " ('wait', 305),\n",
       " ('think', 296),\n",
       " ('see', 282),\n",
       " ('next', 281),\n",
       " ('found', 275),\n",
       " ('job', 271),\n",
       " ('ready', 269),\n",
       " ('home', 239),\n",
       " ('school', 238),\n",
       " ('week', 237),\n",
       " ('always', 236),\n",
       " ('year', 221),\n",
       " ('know', 219),\n",
       " ('getting', 218),\n",
       " ('looking', 215),\n",
       " ('family', 210)]"
      ]
     },
     "execution_count": 139,
     "metadata": {},
     "output_type": "execute_result"
    }
   ],
   "source": [
    "# FREQDIST FOR POSITIVE MODEL 2\n",
    "\n",
    "#first utterance only\n",
    "pos_model2 = ','.join(pos_utt_1.utterance)\n",
    "gettop20_distinct(pos_model2)"
   ]
  },
  {
   "cell_type": "code",
   "execution_count": 140,
   "metadata": {
    "collapsed": true
   },
   "outputs": [
    {
     "data": {
      "text/plain": [
       "[('think', 836),\n",
       " ('know', 655),\n",
       " ('back', 638),\n",
       " ('old', 632),\n",
       " ('happy', 614),\n",
       " ('see', 541),\n",
       " ('would', 536),\n",
       " ('first', 519),\n",
       " ('much', 519),\n",
       " ('love', 514),\n",
       " ('always', 505),\n",
       " ('lot', 494),\n",
       " ('great', 483),\n",
       " ('sure', 477),\n",
       " ('never', 470),\n",
       " ('wait', 458),\n",
       " ('pretty', 437),\n",
       " ('years', 417),\n",
       " ('hope', 416),\n",
       " ('ready', 390)]"
      ]
     },
     "execution_count": 140,
     "metadata": {},
     "output_type": "execute_result"
    }
   ],
   "source": [
    "# FREQDIST FOR POSITIVE MODEL 3\n",
    "\n",
    "#all speaker utterances\n",
    "pos_model3 = ','.join(pos_utt_speaker.utterance)\n",
    "gettop20_distinct(pos_model3)"
   ]
  },
  {
   "cell_type": "code",
   "execution_count": 146,
   "metadata": {
    "collapsed": true
   },
   "outputs": [
    {
     "data": {
      "text/plain": [
       "[('think', 1634),\n",
       " ('hope', 1599),\n",
       " ('great', 1592),\n",
       " ('happy', 1495),\n",
       " ('know', 1470),\n",
       " ('love', 1468),\n",
       " ('would', 1422),\n",
       " ('always', 1408),\n",
       " ('old', 1388),\n",
       " ('sure', 1309),\n",
       " ('nice', 1259),\n",
       " ('back', 1220),\n",
       " ('see', 1149),\n",
       " ('lot', 1086),\n",
       " ('much', 1072),\n",
       " ('never', 1052),\n",
       " ('first', 1027),\n",
       " ('make', 926),\n",
       " ('pretty', 914),\n",
       " ('sounds', 899)]"
      ]
     },
     "execution_count": 146,
     "metadata": {},
     "output_type": "execute_result"
    }
   ],
   "source": [
    "# FREQDIST FOR POSITIVE MODEL 4\n",
    "\n",
    "\n",
    "pos_model4 = ','.join(pos.utterance)\n",
    "pos_model4 = pos_model4 + pos_model1\n",
    "gettop20_distinct(pos_model4)"
   ]
  },
  {
   "cell_type": "code",
   "execution_count": 45,
   "metadata": {
    "collapsed": true
   },
   "outputs": [
    {
     "ename": "AttributeError",
     "evalue": "'DataFrame' object has no attribute 'FreqDist'",
     "output_type": "error",
     "traceback": [
      "\u001b[1;31m---------------------------------------------------------------------------\u001b[0m",
      "\u001b[1;31mAttributeError\u001b[0m                            Traceback (most recent call last)",
      "\u001b[1;32m<ipython-input-45-2064a7b019bd>\u001b[0m in \u001b[0;36m<module>\u001b[1;34m\u001b[0m\n\u001b[0;32m      3\u001b[0m \u001b[0memotion\u001b[0m \u001b[1;33m=\u001b[0m \u001b[0mdf\u001b[0m\u001b[1;33m.\u001b[0m\u001b[0mgroupby\u001b[0m\u001b[1;33m(\u001b[0m\u001b[1;34m\"context\"\u001b[0m\u001b[1;33m)\u001b[0m\u001b[1;33m\u001b[0m\u001b[1;33m\u001b[0m\u001b[0m\n\u001b[0;32m      4\u001b[0m \u001b[0memotion\u001b[0m\u001b[1;33m.\u001b[0m\u001b[0mhead\u001b[0m\u001b[1;33m(\u001b[0m\u001b[1;33m)\u001b[0m\u001b[1;33m\u001b[0m\u001b[1;33m\u001b[0m\u001b[0m\n\u001b[1;32m----> 5\u001b[1;33m \u001b[0memotion\u001b[0m\u001b[1;33m.\u001b[0m\u001b[0mdescribe\u001b[0m\u001b[1;33m(\u001b[0m\u001b[1;33m)\u001b[0m\u001b[1;33m.\u001b[0m\u001b[0mFreqDist\u001b[0m\u001b[1;33m(\u001b[0m\u001b[0mprompt\u001b[0m\u001b[1;33m)\u001b[0m\u001b[1;33m\u001b[0m\u001b[1;33m\u001b[0m\u001b[0m\n\u001b[0m",
      "\u001b[1;32m~\\anaconda3\\lib\\site-packages\\pandas\\core\\generic.py\u001b[0m in \u001b[0;36m__getattr__\u001b[1;34m(self, name)\u001b[0m\n\u001b[0;32m   5272\u001b[0m             \u001b[1;32mif\u001b[0m \u001b[0mself\u001b[0m\u001b[1;33m.\u001b[0m\u001b[0m_info_axis\u001b[0m\u001b[1;33m.\u001b[0m\u001b[0m_can_hold_identifiers_and_holds_name\u001b[0m\u001b[1;33m(\u001b[0m\u001b[0mname\u001b[0m\u001b[1;33m)\u001b[0m\u001b[1;33m:\u001b[0m\u001b[1;33m\u001b[0m\u001b[1;33m\u001b[0m\u001b[0m\n\u001b[0;32m   5273\u001b[0m                 \u001b[1;32mreturn\u001b[0m \u001b[0mself\u001b[0m\u001b[1;33m[\u001b[0m\u001b[0mname\u001b[0m\u001b[1;33m]\u001b[0m\u001b[1;33m\u001b[0m\u001b[1;33m\u001b[0m\u001b[0m\n\u001b[1;32m-> 5274\u001b[1;33m             \u001b[1;32mreturn\u001b[0m \u001b[0mobject\u001b[0m\u001b[1;33m.\u001b[0m\u001b[0m__getattribute__\u001b[0m\u001b[1;33m(\u001b[0m\u001b[0mself\u001b[0m\u001b[1;33m,\u001b[0m \u001b[0mname\u001b[0m\u001b[1;33m)\u001b[0m\u001b[1;33m\u001b[0m\u001b[1;33m\u001b[0m\u001b[0m\n\u001b[0m\u001b[0;32m   5275\u001b[0m \u001b[1;33m\u001b[0m\u001b[0m\n\u001b[0;32m   5276\u001b[0m     \u001b[1;32mdef\u001b[0m \u001b[0m__setattr__\u001b[0m\u001b[1;33m(\u001b[0m\u001b[0mself\u001b[0m\u001b[1;33m,\u001b[0m \u001b[0mname\u001b[0m\u001b[1;33m:\u001b[0m \u001b[0mstr\u001b[0m\u001b[1;33m,\u001b[0m \u001b[0mvalue\u001b[0m\u001b[1;33m)\u001b[0m \u001b[1;33m->\u001b[0m \u001b[1;32mNone\u001b[0m\u001b[1;33m:\u001b[0m\u001b[1;33m\u001b[0m\u001b[1;33m\u001b[0m\u001b[0m\n",
      "\u001b[1;31mAttributeError\u001b[0m: 'DataFrame' object has no attribute 'FreqDist'"
     ]
    }
   ],
   "source": [
    "# group by emotional context\n",
    "\n",
    "emotion = df.groupby(\"context\")\n",
    "emotion.head()\n",
    "emotion.describe().FreqDist(prompt)"
   ]
  },
  {
   "cell_type": "code",
   "execution_count": 154,
   "metadata": {},
   "outputs": [
    {
     "name": "stdout",
     "output_type": "stream",
     "text": [
      "[('dog', 421), ('car', 414), ('bad', 391), ('saw', 369), ('home', 338), ('someone', 336), ('scared', 295), ('know', 293), ('house', 275), ('friends', 254), ('people', 251), ('found', 240), ('night', 236), ('never', 235), ('back', 234), ('left', 230), ('job', 222), ('away', 216), ('always', 215), ('made', 214)]\n",
      "[('dog', 383), ('car', 379), ('bad', 366), ('home', 336), ('saw', 317), ('someone', 285), ('night', 276), ('know', 265), ('house', 255), ('scared', 249), ('friends', 245), ('back', 236), ('today', 232), ('week', 225), ('job', 217), ('little', 215), ('people', 210), ('found', 204), ('always', 201), ('lost', 199)]\n",
      "[('know', 947), ('think', 812), ('bad', 706), ('still', 553), ('would', 547), ('even', 544), ('never', 540), ('want', 523), ('car', 520), ('back', 511), ('home', 504), ('people', 488), ('dog', 483), ('someone', 481), ('always', 449), ('little', 445), ('much', 440), ('could', 428), ('saw', 423), ('it.', 408)]\n",
      "[('know', 2055), ('would', 1878), ('think', 1607), ('hope', 1573), ('bad', 1504), ('people', 1275), ('sure', 1182), ('always', 1135), ('sorry', 1121), ('never', 1097), ('someone', 1095), ('dog', 1059), ('car', 1040), ('make', 1035), ('even', 1012), (\"that's\", 998), ('hear', 992), ('could', 980), ('back', 980), ('still', 975)]\n"
     ]
    }
   ],
   "source": [
    "# NEGATIVE WORDS\n",
    "\n",
    "neg = df[df['context'].isin([\"disgusted\",\"devastated\", \"terrified\", \"anxious\", \"furious\", \"embarrassed\", \"angry\", \"sad\", \"afraid\", \"annoyed\", \"jealous\", \"ashamed\", \"lonely\", \"guilty\", \"apprehensive\", \"disappointed\"])]\n",
    "\n",
    "# get first utterances only\n",
    "neg_utt_1 = neg[neg[\"turn\"] == 1]\n",
    "\n",
    "#get speaker utterances only\n",
    "neg_utt_speaker = neg[neg[\"speaker_type\"] == \"speaker\"]\n",
    "\n",
    "# FREQDIST FOR NEGATIVE MODEL 1\n",
    "\n",
    "#prompt only\n",
    "neg_model1 = ','.join(neg_utt_1.prompt)\n",
    "neg_model1_20 = gettop20_distinct(neg_model1)\n",
    "\n",
    "# FREQDIST FOR NEGATIVE MODEL 2\n",
    "\n",
    "#first utterance only\n",
    "neg_model2 = ','.join(neg_utt_1.utterance)\n",
    "neg_model2_20 = gettop20_distinct(neg_model2)\n",
    "\n",
    "# FREQDIST FOR NEGATIVE MODEL 3\n",
    "\n",
    "#all speaker utterances\n",
    "neg_model3 = ','.join(neg_utt_speaker.utterance)\n",
    "neg_model3_20 = gettop20_distinct(neg_model3)\n",
    "\n",
    "# FREQDIST FOR NEGATIVE MODEL 4\n",
    "\n",
    "#all utterances plus prompt\n",
    "neg_model4 = ','.join(neg.utterance)\n",
    "neg_model4 = neg_model4 + neg_model1\n",
    "neg_model4_20 = gettop20_distinct(neg_model4)\n",
    "\n",
    "for lst in (neg_model1_20, neg_model2_20, neg_model3_20, neg_model4_20):\n",
    "    print(lst)"
   ]
  },
  {
   "cell_type": "code",
   "execution_count": 173,
   "metadata": {},
   "outputs": [
    {
     "name": "stdout",
     "output_type": "stream",
     "text": [
      "disgusted\n",
      "[('saw', 95), ('dog', 55), ('found', 42), ('someone', 32), ('people', 32), ('eating', 29), ('restaurant', 28), ('grossed', 28), ('cat', 27), ('eat', 27), ('stepped', 27), ('food', 27), ('ate', 26), ('today', 25), ('hair', 25), ('vomited', 23), ('guy', 23), ('trash', 22), ('disgusted', 21), ('sick', 21)]\n",
      "[('saw', 82), ('dog', 45), ('today', 38), ('someone', 35), ('found', 33), ('food', 31), ('restaurant', 31), ('people', 30), ('eating', 28), ('cat', 26), ('night', 25), ('eat', 25), ('ate', 24), ('back', 24), ('guy', 24), ('stepped', 23), ('clean', 23), ('home', 21), ('trash', 21), ('dead', 21)]\n",
      "[('saw', 94), ('people', 57), ('someone', 51), ('know', 50), ('dog', 50), ('think', 46), ('food', 46), ('gross', 45), ('clean', 43), ('found', 42), ('today', 40), ('back', 40), ('even', 40), ('something', 39), ('would', 38), ('almost', 38), ('eat', 37), ('never', 37), ('restaurant', 37), ('it.', 36)]\n",
      "[('saw', 193), ('would', 147), ('people', 132), ('dog', 120), ('know', 105), ('someone', 99), ('clean', 94), ('gross', 92), (\"that's\", 90), ('food', 88), ('found', 88), ('think', 85), ('hope', 82), ('something', 79), ('eat', 78), ('never', 77), ('eating', 72), ('back', 71), ('cat', 71), ('bad', 70)]\n",
      "devastated\n",
      "[('passed', 61), ('lost', 59), ('died', 58), ('dog', 52), ('away', 48), ('sad', 46), ('found', 45), ('years', 38), ('car', 38), ('grandmother', 30), ('cat', 28), ('hard', 22), ('know', 21), ('crushed', 20), ('me.', 20), ('put', 19), ('week', 19), ('wife', 18), ('heartbroken', 18), ('broke', 17)]\n",
      "[('passed', 56), ('lost', 56), ('away', 51), ('dog', 47), ('died', 45), ('found', 38), ('car', 36), ('sad', 35), ('grandmother', 32), ('years', 30), ('cat', 25), ('year', 23), ('house', 18), ('still', 17), ('wife', 17), ('home', 17), ('crushed', 17), ('heartbroken', 17), ('recently', 16), ('week', 16)]\n",
      "[('lost', 71), ('passed', 65), ('away', 58), ('years', 56), ('still', 55), ('dog', 55), ('died', 55), ('sad', 53), ('know', 48), ('car', 47), ('found', 45), ('much', 36), ('hard', 35), ('grandmother', 33), ('think', 32), ('year', 31), ('never', 28), ('home', 28), ('cat', 27), ('lot', 27)]\n",
      "[('sorry', 194), ('hear', 159), ('lost', 150), ('hope', 146), ('passed', 132), ('sad', 131), ('know', 124), ('dog', 123), ('died', 117), ('away', 113), ('years', 100), ('found', 96), ('car', 92), ('still', 91), ('that.', 88), ('hard', 85), ('would', 78), ('grandmother', 65), ('cat', 64), ('family', 64)]\n",
      "terrified\n",
      "[('scared', 128), ('night', 56), ('afraid', 49), ('home', 48), ('house', 48), ('saw', 46), ('scary', 36), ('heard', 34), ('walking', 31), ('thought', 28), ('first', 27), ('someone', 26), ('car', 25), ('movie', 25), ('think', 23), ('outside', 22), ('night.', 21), ('would', 20), ('ran', 20), ('snake', 20)]\n",
      "[('scared', 105), ('night', 57), ('home', 51), ('house', 46), ('afraid', 43), ('saw', 38), ('scary', 32), ('heard', 28), ('walking', 28), ('thought', 27), ('first', 24), ('someone', 23), ('almost', 22), ('outside', 22), ('car', 20), ('movie', 20), ('hit', 19), ('bad', 18), ('would', 18), ('think', 18)]\n",
      "[('scared', 159), ('night', 70), ('house', 62), ('home', 61), ('afraid', 60), ('saw', 60), ('think', 58), ('know', 53), ('scary', 52), ('never', 50), ('thought', 48), ('someone', 41), ('would', 39), ('still', 36), ('see', 35), ('back', 34), ('around', 34), ('first', 34), ('heard', 32), ('want', 32)]\n",
      "[('scared', 319), ('would', 163), ('scary', 132), ('night', 128), ('house', 125), ('think', 125), ('home', 122), ('afraid', 121), ('saw', 114), ('know', 104), ('never', 97), ('hope', 94), ('thought', 84), ('someone', 79), ('see', 78), ('heard', 76), ('bad', 74), ('first', 73), ('hate', 72), ('could', 69)]\n",
      "anxious\n",
      "[('nervous', 91), ('wait', 51), ('job', 48), ('worried', 44), ('test', 43), ('know', 37), ('waiting', 36), ('next', 35), ('first', 31), ('coming', 31), ('see', 26), ('interview', 26), ('anxious', 26), ('big', 26), ('feeling', 24), ('want', 24), ('hope', 23), ('getting', 23), ('week.', 21), ('sure', 20)]\n",
      "[('nervous', 84), ('job', 43), ('test', 40), ('worried', 40), ('know', 33), ('waiting', 32), ('next', 32), ('first', 31), ('wait', 30), ('tomorrow', 27), ('feeling', 26), ('interview', 25), ('coming', 25), ('anxious', 21), ('doctor', 20), ('big', 20), ('ready', 20), ('week', 19), ('it.,i', 18), ('always', 18)]\n",
      "[('nervous', 116), ('know', 84), ('think', 62), ('job', 57), ('worried', 55), ('hope', 51), ('first', 47), ('next', 46), ('test', 46), ('wait', 40), ('waiting', 39), ('lot', 39), ('sure', 39), ('want', 37), ('back', 36), ('feeling', 35), ('anxious', 35), ('much', 35), ('big', 34), ('would', 34)]\n",
      "[('nervous', 230), ('hope', 187), ('know', 176), ('sure', 136), ('think', 125), ('job', 122), ('worried', 106), ('wait', 101), ('test', 96), ('first', 95), ('would', 94), ('next', 89), ('always', 89), ('waiting', 81), ('well', 75), ('anxious', 73), ('want', 73), ('see', 70), ('much', 70), ('something', 70)]\n",
      "furious\n",
      "[('car', 84), ('mad', 77), ('someone', 59), ('dog', 51), ('angry', 43), ('saw', 41), ('stole', 32), ('pissed', 28), ('back', 27), ('left', 26), ('upset', 26), ('dent', 23), ('took', 22), ('even', 22), ('pooped', 22), ('put', 22), ('hit', 20), ('home', 19), ('furious', 19), ('brother', 19)]\n",
      "[('car', 82), ('mad', 74), ('someone', 56), ('dog', 47), ('saw', 38), ('angry', 33), ('stole', 27), ('pissed', 27), ('upset', 26), ('put', 23), ('dent', 23), ('home', 22), ('left', 22), ('took', 22), ('pooped', 20), ('would', 19), ('found', 19), ('back', 19), ('hit', 19), ('made', 18)]\n",
      "[('mad', 118), ('car', 109), ('someone', 71), ('even', 60), ('dog', 55), ('angry', 52), ('know', 52), ('saw', 50), ('would', 45), ('back', 43), ('made', 42), ('never', 38), ('people', 38), ('took', 38), ('money', 38), ('upset', 37), ('put', 37), ('left', 36), ('think', 35), ('home', 32)]\n",
      "[('car', 212), ('mad', 204), ('would', 154), ('someone', 150), ('dog', 124), ('know', 115), ('people', 103), ('angry', 103), ('hope', 102), ('even', 97), ('back', 92), ('saw', 92), ('upset', 79), (\"that's\", 75), ('take', 71), ('sorry', 69), ('think', 67), ('money', 66), ('never', 65), ('made', 65)]\n",
      "embarrassed\n",
      "[('front', 56), ('fell', 51), ('forgot', 48), ('pants', 47), ('tripped', 39), ('school', 37), ('everyone', 34), ('store', 31), ('people', 31), ('walking', 31), ('spilled', 29), ('car', 28), ('accidentally', 28), ('walked', 26), ('saw', 24), ('first', 23), ('coffee', 21), ('left', 20), ('embarrassed', 20), ('around', 19)]\n",
      "[('front', 50), ('fell', 43), ('pants', 41), ('forgot', 40), ('tripped', 36), ('school', 34), ('accidentally', 32), ('store', 30), ('walking', 25), ('first', 24), ('spilled', 24), ('people', 23), ('today', 23), ('night', 22), ('bad', 22), ('walked', 22), ('everyone', 22), ('dinner', 21), ('car', 21), ('coffee', 17)]\n",
      "[('front', 69), ('everyone', 58), ('pants', 57), ('know', 54), ('fell', 53), ('people', 49), ('forgot', 47), ('think', 45), ('school', 43), ('tripped', 42), ('back', 42), ('first', 39), ('still', 37), ('bad', 36), ('car', 34), ('accidentally', 34), ('store', 33), ('made', 33), ('saw', 32), ('could', 32)]\n",
      "[('front', 126), ('everyone', 123), ('people', 116), ('pants', 108), ('fell', 106), ('forgot', 98), ('know', 98), ('would', 92), ('sure', 87), ('tripped', 83), ('school', 82), ('bad', 81), ('think', 75), ('hope', 71), ('could', 70), ('no!', 68), ('back', 68), ('car', 68), ('first', 68), ('store', 67)]\n",
      "angry\n",
      "[('mad', 81), ('someone', 65), ('upset', 51), ('car', 51), ('dog', 35), ('saw', 31), ('took', 28), ('angry', 28), ('lost', 27), ('put', 26), ('home', 26), ('cut', 25), ('me.', 25), ('made', 23), ('people', 23), ('even', 22), ('never', 22), ('traffic', 21), ('brother', 19), ('stole', 19)]\n",
      "[('mad', 73), ('someone', 51), ('car', 48), ('upset', 36), ('dog', 32), ('saw', 29), ('lost', 26), ('angry', 26), ('home', 25), ('people', 24), ('traffic', 24), ('today', 23), ('took', 23), ('cut', 23), ('made', 22), ('put', 22), ('almost', 21), ('back', 20), ('brother', 19), ('broke', 19)]\n",
      "[('mad', 100), ('someone', 67), ('car', 61), ('know', 59), ('upset', 56), ('think', 56), ('people', 49), ('back', 46), ('angry', 46), ('never', 45), ('still', 45), ('even', 44), ('want', 42), ('would', 41), ('it.', 40), ('dog', 40), ('made', 38), ('home', 35), ('lost', 34), ('always', 34)]\n",
      "[('mad', 194), ('would', 176), ('someone', 145), ('people', 134), ('know', 126), ('car', 124), ('upset', 117), ('think', 106), ('never', 89), ('even', 88), ('hope', 85), ('hate', 85), ('dog', 84), ('angry', 81), ('still', 79), ('back', 76), ('take', 73), ('put', 72), ('find', 69), ('made', 69)]\n",
      "sad\n",
      "[('dog', 90), ('away', 67), ('passed', 61), ('died', 60), ('sad', 50), ('upset', 37), ('cat', 36), ('years', 34), ('miss', 34), ('pet', 30), ('lost', 30), ('old', 28), ('found', 28), ('best', 25), ('put', 24), ('today.', 24), ('favorite', 22), ('think', 22), ('left', 22), ('week', 20)]\n",
      "[('dog', 80), ('away', 58), ('passed', 52), ('died', 52), ('sad', 46), ('upset', 35), ('years', 34), ('cat', 31), ('pet', 29), ('lost', 28), ('miss', 28), ('old', 26), ('think', 24), ('found', 23), ('favorite', 22), ('little', 22), ('year', 21), ('best', 21), ('back', 20), ('feeling', 19)]\n",
      "[('dog', 97), ('sad', 83), ('away', 82), ('think', 78), ('years', 71), ('passed', 67), ('know', 61), ('miss', 59), ('died', 58), ('old', 52), ('still', 48), ('hard', 46), ('upset', 46), ('best', 41), ('little', 40), ('want', 39), ('lost', 39), ('always', 38), ('much', 37), ('back', 37)]\n",
      "[('dog', 214), ('sorry', 207), ('hear', 167), ('sad', 165), ('away', 163), ('know', 151), ('passed', 138), ('hope', 134), ('think', 128), ('died', 123), ('years', 119), ('that.', 117), ('old', 110), ('miss', 108), ('hard', 102), ('still', 94), ('lost', 90), ('cat', 86), ('upset', 85), ('would', 82)]\n",
      "afraid\n",
      "[('scared', 128), ('home', 71), ('afraid', 50), ('car', 40), ('saw', 39), ('house', 38), ('night', 37), ('heard', 33), ('walking', 33), ('thought', 31), ('alone', 28), ('think', 27), ('night.', 27), ('know', 26), ('dark', 22), ('scary', 21), ('might', 20), ('always', 19), ('someone', 19), ('see', 19)]\n",
      "[('scared', 105), ('home', 62), ('afraid', 49), ('night', 46), ('house', 33), ('car', 33), ('walking', 31), ('know', 30), ('heard', 30), ('scary', 27), ('saw', 27), ('think', 23), ('thought', 23), ('night.', 23), ('alone', 22), ('always', 19), ('walk', 18), ('see', 17), ('sleep', 17), ('right', 17)]\n",
      "[('scared', 153), ('know', 82), ('afraid', 81), ('home', 79), ('think', 61), ('night', 61), ('scary', 51), ('never', 47), ('house', 45), ('want', 44), ('thought', 42), ('saw', 42), ('could', 40), ('heard', 38), ('car', 38), ('always', 38), ('see', 36), ('walking', 36), ('dark', 33), ('would', 32)]\n",
      "[('scared', 308), ('home', 164), ('afraid', 155), ('know', 153), ('think', 145), ('would', 127), ('scary', 115), ('hope', 112), ('night', 103), ('house', 94), ('saw', 87), ('car', 87), ('thought', 82), ('could', 81), ('see', 79), ('always', 79), ('heard', 78), ('want', 75), ('never', 72), ('walking', 72)]\n",
      "annoyed\n",
      "[('always', 46), ('people', 44), ('dog', 37), ('neighbors', 27), ('keep', 27), ('keeps', 27), ('never', 27), ('kids', 25), ('even', 24), ('stop', 24), ('night', 23), ('getting', 22), ('neighbor', 22), ('irritated', 21), ('annoyed', 21), ('today.', 21), ('car', 20), ('house', 20), ('someone', 19), ('hate', 19)]\n",
      "[('dog', 41), ('always', 40), ('people', 31), ('hate', 31), ('neighbors', 27), ('never', 24), ('today', 23), ('even', 21), ('keep', 20), ('keeps', 20), ('neighbor', 20), ('stop', 20), ('much', 19), ('house', 19), ('getting', 19), ('car', 18), ('home', 18), ('annoyed', 17), ('late', 17), ('cat', 17)]\n",
      "[('people', 64), ('always', 63), ('even', 61), ('think', 54), ('know', 50), ('want', 48), ('never', 47), ('would', 46), ('dog', 46), ('hate', 42), ('still', 40), ('much', 36), ('getting', 36), ('keep', 35), ('stop', 33), ('take', 32), ('neighbors', 30), ('car', 30), ('little', 30), ('trying', 29)]\n",
      "[('people', 179), ('would', 153), ('always', 139), ('hate', 119), ('think', 112), ('know', 112), ('even', 97), ('dog', 97), ('never', 90), ('want', 83), ('hope', 82), ('keep', 78), ('take', 76), (\"that's\", 75), ('make', 71), ('need', 71), ('maybe', 67), ('someone', 66), ('much', 66), ('getting', 65)]\n",
      "jealous\n",
      "[('wish', 69), ('bought', 55), ('jealous', 50), ('envious', 50), ('brother', 45), ('coworker', 38), ('best', 38), ('friends', 38), ('car', 35), ('wanted', 32), ('sister', 30), ('me.', 30), ('girlfriend', 30), ('saw', 28), ('could', 27), ('want', 26), ('people', 26), ('promotion', 25), ('always', 24), ('better', 24)]\n",
      "[('wish', 61), ('bought', 53), ('brother', 43), ('jealous', 41), ('best', 39), ('car', 36), ('friends', 34), ('envious', 33), ('coworker', 30), ('sister', 28), ('saw', 27), ('promotion', 26), ('girlfriend', 26), ('always', 26), ('people', 24), ('could', 24), ('better', 23), ('much', 22), ('wanted', 21), ('brand', 20)]\n",
      "[('wish', 88), ('envious', 72), ('bought', 66), ('jealous', 59), ('car', 55), ('always', 51), ('know', 50), ('best', 48), ('friends', 48), ('want', 48), ('brother', 48), ('think', 45), ('would', 45), ('even', 42), ('better', 42), ('much', 41), ('could', 40), ('hard', 39), ('people', 37), ('wanted', 37)]\n",
      "[('wish', 181), ('would', 140), ('jealous', 135), ('know', 128), ('bought', 126), ('envious', 125), ('car', 109), ('always', 105), ('brother', 105), ('best', 100), ('people', 100), ('better', 100), ('friends', 95), ('want', 94), ('could', 91), ('think', 89), ('even', 87), ('much', 86), ('hard', 86), ('maybe', 85)]\n",
      "ashamed\n",
      "[('bad', 57), ('ate', 55), ('it.,i', 30), ('ashamed', 28), ('made', 21), ('money', 20), ('cheated', 19), ('lied', 18), ('embarrassed', 18), ('school', 16), ('caught', 16), ('took', 16), ('way', 15), ('forgot', 15), ('told', 14), ('ended', 14), ('know', 14), ('believe', 14), ('whole', 14), ('stole', 14)]\n",
      "[('bad', 50), ('ate', 48), ('it.,i', 21), ('ashamed', 20), ('made', 20), ('embarrassed', 19), ('money', 18), ('took', 17), ('cheated', 17), ('believe', 15), ('stole', 15), ('school', 14), ('whole', 13), ('broke', 12), ('would', 12), ('caught', 12), ('failed', 12), ('lied', 11), ('best', 11), ('much', 11)]\n",
      "[('bad', 93), ('ate', 57), ('ashamed', 51), ('know', 47), ('even', 32), ('made', 31), ('it.', 31), ('still', 30), ('never', 29), ('money', 29), ('it.,i', 29), ('think', 28), ('took', 27), ('told', 27), ('embarrassed', 26), ('want', 25), ('make', 24), ('would', 22), ('way', 22), ('wanted', 22)]\n",
      "[('bad', 176), ('ate', 113), ('know', 103), ('ashamed', 83), ('sure', 73), ('hope', 73), ('would', 69), ('think', 69), ('make', 68), ('never', 64), (\"that's\", 61), ('something', 61), ('money', 60), ('people', 56), ('made', 56), ('well', 55), ('take', 53), ('sorry', 52), ('it.', 51), ('much', 50)]\n",
      "lonely\n",
      "[('alone', 111), ('friends', 93), ('moved', 65), ('miss', 54), ('left', 51), ('girlfriend', 47), ('family', 46), ('home', 42), ('know', 38), ('away', 38), ('lonely', 36), ('house', 32), ('town', 29), ('wife', 28), ('husband', 26), ('without', 25), ('live', 24), ('anyone', 24), ('kids', 24), ('since', 23)]\n",
      "[('alone', 96), ('friends', 84), ('moved', 61), ('girlfriend', 44), ('left', 44), ('miss', 42), ('family', 38), ('know', 35), ('lonely', 34), ('home', 34), ('away', 33), ('house', 31), ('week', 27), ('town', 27), ('without', 25), ('husband', 23), ('wife', 22), ('kids', 22), ('year', 21), ('back', 21)]\n",
      "[('alone', 138), ('friends', 130), ('miss', 77), ('moved', 72), ('know', 72), ('home', 62), ('lonely', 59), ('family', 58), ('left', 56), ('away', 51), ('hard', 49), ('girlfriend', 47), ('house', 46), ('think', 45), ('live', 39), ('lot', 38), ('without', 38), ('around', 36), ('week', 34), ('kids', 33)]\n",
      "[('friends', 290), ('alone', 286), ('know', 176), ('miss', 146), ('moved', 144), ('lonely', 123), ('family', 122), ('left', 115), ('home', 114), ('sorry', 110), ('hear', 109), ('away', 107), ('girlfriend', 98), ('people', 95), ('always', 95), ('house', 92), ('hope', 89), ('hard', 87), ('make', 86), ('find', 85)]\n",
      "guilty\n",
      "[('bad', 169), ('ate', 66), ('it.,i', 59), ('stole', 47), ('money', 40), ('took', 39), ('forgot', 35), ('lied', 33), ('kids', 25), ('told', 24), ('guilty', 23), ('something', 23), ('store', 23), ('friends', 22), ('accidentally', 22), ('someone', 22), ('cheated', 22), ('left', 21), ('bad.,i', 21), ('broke', 18)]\n",
      "[('bad', 158), ('ate', 57), ('stole', 45), ('money', 38), ('it.,i', 36), ('took', 34), ('lied', 27), ('something', 26), ('forgot', 26), ('birthday', 24), ('today', 24), ('friends', 23), ('accidentally', 23), ('made', 21), ('told', 21), ('night', 20), ('someone', 20), ('car', 20), ('even', 19), ('store', 19)]\n",
      "[('bad', 273), ('ate', 72), ('know', 63), ('think', 62), ('it.,i', 56), ('money', 54), ('it.', 50), ('forgot', 50), ('stole', 48), ('still', 46), ('took', 44), ('guilty', 39), ('told', 39), ('even', 39), ('much', 38), ('something', 38), ('lied', 35), ('back', 33), ('would', 32), ('little', 32)]\n",
      "[('bad', 496), ('ate', 141), ('think', 130), ('know', 123), ('money', 108), ('would', 102), ('stole', 102), ('something', 98), ('make', 95), ('it.,i', 91), ('took', 89), ('it.', 86), ('forgot', 86), ('sure', 85), ('still', 77), ('much', 77), ('hope', 77), ('tell', 77), ('back', 70), ('lied', 69)]\n",
      "apprehensive\n",
      "[('sure', 76), ('nervous', 57), ('job', 49), ('little', 38), ('know', 37), ('first', 36), ('want', 35), ('worried', 27), ('bit', 27), ('think', 21), ('take', 20), ('back', 20), ('would', 20), ('scared', 19), ('feeling', 18), ('wanted', 17), ('started', 16), ('right', 16), ('wants', 15), ('lot', 14)]\n",
      "[('nervous', 60), ('sure', 54), ('job', 46), ('little', 35), ('first', 32), ('know', 28), ('want', 26), ('back', 21), ('worried', 21), ('take', 18), ('think', 18), ('bit', 18), ('feeling', 17), ('school', 16), ('interview', 16), ('started', 15), ('scared', 15), ('big', 15), ('invited', 14), ('it.,i', 13)]\n",
      "[('nervous', 84), ('sure', 80), ('know', 79), ('job', 63), ('think', 62), ('want', 60), ('little', 49), ('first', 48), ('worried', 35), ('getting', 33), ('back', 32), ('would', 32), ('hope', 32), ('bit', 31), ('take', 29), ('scared', 28), ('lot', 28), ('never', 27), ('could', 26), ('it.', 25)]\n",
      "[('sure', 216), ('know', 161), ('nervous', 153), ('think', 144), ('job', 124), ('want', 112), ('would', 109), ('first', 99), ('little', 98), ('hope', 90), ('never', 75), ('worried', 72), ('take', 72), ('make', 70), ('bit', 67), ('could', 64), ('back', 63), ('something', 62), ('always', 62), ('lot', 57)]\n",
      "disappointed\n",
      "[('sad', 43), ('let', 36), ('disappointed', 34), ('thought', 31), ('wanted', 31), ('upset', 30), ('found', 29), ('job', 28), ('didnt', 27), ('son', 23), ('supposed', 21), ('hard', 20), ('promotion', 19), ('lost', 18), ('make', 17), ('buy', 17), ('back', 17), ('never', 17), ('would', 16), ('hoping', 16)]\n",
      "[('sad', 37), ('wanted', 33), ('job', 31), ('let', 28), ('thought', 27), ('disappointed', 26), ('son', 22), ('little', 21), ('didnt', 20), ('home', 19), ('supposed', 19), ('weekend', 19), ('upset', 18), ('found', 18), ('promotion', 17), ('favorite', 17), ('lost', 17), ('today', 16), ('even', 15), ('much', 15)]\n",
      "[('sad', 50), ('wanted', 48), ('thought', 48), ('know', 43), ('think', 43), ('job', 41), ('upset', 41), ('disappointed', 40), ('let', 40), ('never', 38), ('would', 37), ('little', 36), ('even', 32), ('hard', 32), ('much', 32), ('still', 30), ('didnt', 30), ('guess', 30), ('want', 28), ('next', 27)]\n",
      "[('would', 117), ('sad', 102), ('know', 100), ('hope', 91), ('sorry', 89), ('let', 85), ('always', 85), ('job', 83), ('thought', 83), ('wanted', 82), ('next', 82), ('disappointed', 81), ('hard', 79), ('upset', 76), ('never', 74), ('something', 74), ('make', 71), ('think', 70), ('hear', 67), (\"that's\", 67)]\n",
      "surprised\n",
      "[('shocked', 122), ('believe', 90), ('birthday', 78), ('party', 74), ('surprised', 67), ('friends', 55), ('home', 54), ('came', 54), ('see', 52), ('found', 51), ('threw', 43), ('expecting', 43), ('thought', 39), ('bought', 39), ('surprise', 38), ('saw', 38), ('never', 36), ('parents', 34), ('car', 34), ('gave', 31)]\n",
      "[('shocked', 90), ('birthday', 74), ('believe', 61), ('party', 59), ('surprised', 53), ('found', 49), ('home', 47), ('see', 47), ('came', 46), ('thought', 41), ('friends', 40), ('saw', 37), ('expecting', 37), ('threw', 36), ('surprise', 36), ('car', 33), ('never', 31), ('week', 31), ('year', 29), ('parents', 28)]\n",
      "[('shocked', 126), ('birthday', 89), ('thought', 79), ('believe', 79), ('see', 77), ('never', 77), ('surprised', 74), ('party', 72), ('came', 69), ('home', 65), ('expecting', 62), ('think', 62), ('even', 62), ('friends', 61), ('found', 57), ('know', 57), ('nice', 55), ('little', 52), ('car', 49), ('would', 48)]\n",
      "[('shocked', 253), ('nice', 180), ('birthday', 179), ('believe', 175), ('never', 157), ('party', 153), ('see', 153), ('would', 151), ('surprised', 149), ('great', 144), ('know', 139), ('friends', 135), ('thought', 129), ('came', 127), ('home', 124), ('hope', 119), ('found', 117), (\"that's\", 116), ('surprise', 114), ('happy', 114)]\n",
      "anticipating\n",
      "[('wait', 181), ('forward', 86), ('looking', 77), ('next', 64), ('waiting', 44), ('excited', 43), ('coming', 41), ('see', 39), ('cant', 38), ('getting', 34), ('come', 25), ('vacation', 25), ('super', 24), ('game', 24), ('cannot', 23), ('ready', 22), ('week.', 22), ('first', 21), ('smash', 20), ('back', 19)]\n",
      "[('wait', 148), ('looking', 73), ('forward', 73), ('next', 63), ('cant', 46), ('excited', 45), ('coming', 41), ('waiting', 40), ('getting', 33), ('see', 27), ('first', 26), ('game', 25), ('vacation', 24), ('super', 24), ('cannot', 24), ('come', 22), ('week', 22), ('ready', 21), ('back', 20), ('trip', 20)]\n",
      "[('wait', 196), ('looking', 92), ('forward', 92), ('next', 72), ('cant', 59), ('excited', 58), ('see', 55), ('waiting', 54), ('think', 47), ('hope', 47), ('getting', 47), ('first', 46), ('coming', 46), ('know', 37), ('love', 36), ('back', 33), ('game', 33), ('come', 32), ('want', 31), ('week', 29)]\n",
      "[('wait', 385), ('forward', 192), ('looking', 182), ('hope', 161), ('next', 150), ('excited', 125), ('see', 114), ('waiting', 109), ('love', 103), ('think', 99), ('cant', 98), ('coming', 98), ('getting', 95), ('know', 90), ('sounds', 85), ('first', 85), ('sure', 71), ('game', 71), ('come', 68), ('great', 68)]\n",
      "joyful\n",
      "[('happy', 172), ('see', 37), ('first', 35), ('finally', 32), ('found', 32), ('great', 24), ('excited', 23), ('family', 22), ('years', 19), ('son', 19), ('love', 19), ('getting', 18), ('home', 18), ('dog', 17), ('girlfriend', 16), ('coming', 16), ('wife', 16), ('weekend', 16), ('pretty', 16), ('baby', 16)]\n",
      "[('happy', 151), ('first', 38), ('see', 33), ('finally', 32), ('found', 23), ('excited', 22), ('son', 21), ('love', 20), ('family', 20), ('getting', 19), ('great', 19), ('year', 18), ('best', 17), ('week', 17), ('life', 17), ('home', 16), ('wife', 16), ('years', 16), ('weekend', 16), ('kids', 16)]\n",
      "[('happy', 189), ('first', 63), ('see', 62), ('love', 46), ('finally', 44), ('think', 41), ('much', 39), ('family', 37), ('great', 36), ('excited', 32), ('found', 31), ('life', 29), ('kids', 29), ('long', 29), ('getting', 28), ('years', 28), ('year', 27), ('son', 27), ('little', 26), ('school', 26)]\n",
      "[('happy', 413), ('great', 134), ('see', 118), ('love', 117), ('first', 112), ('nice', 82), ('think', 81), ('finally', 81), ('sounds', 77), ('hope', 77), ('long', 75), ('family', 73), ('much', 72), (\"that's\", 71), ('found', 70), ('always', 67), ('excited', 61), ('fun', 59), ('never', 59), ('life', 58)]\n",
      "excited\n",
      "[('wait', 118), ('next', 76), ('excited', 68), ('see', 58), ('first', 49), ('happy', 47), ('looking', 42), ('forward', 42), ('finally', 40), ('coming', 38), ('vacation', 36), ('cant', 34), ('super', 33), ('week', 31), ('trip', 30), ('getting', 29), ('game', 25), ('ready', 24), ('long', 24), ('weekend.', 24)]\n",
      "[('wait', 121), ('next', 78), ('see', 54), ('happy', 52), ('excited', 49), ('first', 47), ('finally', 42), ('cant', 41), ('trip', 36), ('vacation', 32), ('super', 32), ('getting', 32), ('forward', 31), ('looking', 30), ('coming', 29), ('week', 28), ('back', 28), ('weekend.', 25), ('game', 21), ('birthday', 21)]\n",
      "[('wait', 162), ('next', 88), ('see', 78), ('first', 75), ('excited', 67), ('happy', 62), ('love', 57), ('cant', 53), ('forward', 53), ('finally', 51), ('looking', 49), ('back', 45), ('super', 45), ('trip', 44), ('think', 44), ('getting', 44), ('great', 41), ('vacation', 41), (\"i've\", 40), ('week', 39)]\n",
      "[('wait', 288), ('next', 178), ('love', 173), ('see', 168), ('excited', 162), ('first', 149), ('happy', 141), ('hope', 134), ('great', 126), ('sounds', 122), ('forward', 108), ('looking', 103), ('finally', 93), ('never', 93), ('cant', 92), ('long', 92), ('super', 88), ('always', 87), ('vacation', 86), ('know', 82)]\n",
      "trusting\n",
      "[('would', 58), ('let', 53), ('knew', 52), ('trust', 50), ('trusted', 49), ('brother', 47), ('car', 45), ('know', 41), ('told', 31), ('take', 29), ('money', 29), ('always', 29), ('first', 27), ('faith', 27), ('never', 26), ('someone', 26), ('shouldnt', 26), ('back', 25), ('girlfriend', 25), ('believe', 25)]\n",
      "[('knew', 53), ('let', 49), ('trust', 45), ('brother', 44), ('trusted', 38), ('would', 35), ('know', 34), ('car', 34), ('always', 26), ('shouldnt', 26), ('first', 24), ('take', 24), ('never', 23), ('girlfriend', 23), ('could', 23), ('believe', 22), ('back', 22), ('wife', 21), ('care', 20), ('people', 18)]\n",
      "[('trust', 90), ('know', 74), ('would', 74), ('let', 72), ('knew', 69), ('always', 52), ('never', 49), ('brother', 45), ('car', 45), ('back', 43), ('trusted', 42), ('people', 40), ('think', 39), ('take', 39), ('first', 35), ('years', 35), ('believe', 34), ('help', 33), ('someone', 33), ('could', 33)]\n",
      "[('trust', 205), ('would', 174), ('know', 151), ('let', 138), ('knew', 123), ('always', 121), ('hope', 115), ('people', 98), ('car', 97), ('someone', 97), ('brother', 97), ('trusted', 94), ('never', 92), ('think', 90), ('take', 88), ('back', 86), ('nice', 85), ('sure', 82), ('help', 78), ('lot', 71)]\n",
      "confident\n",
      "[('sure', 90), ('know', 67), ('knew', 60), ('think', 58), ('test', 52), ('job', 48), ('studied', 37), ('hard', 37), ('confident', 35), ('well', 35), ('interview', 34), ('pretty', 33), ('great', 29), ('next', 26), ('tomorrow.', 26), ('win', 25), ('it.,i', 25), ('feeling', 24), ('prepared', 23), ('exam', 22)]\n",
      "[('think', 60), ('sure', 57), ('knew', 52), ('job', 50), ('know', 48), ('test', 45), ('interview', 43), ('hard', 36), ('confident', 35), ('well', 34), ('pretty', 31), ('next', 30), ('studied', 29), ('exam', 25), ('make', 23), ('school', 21), ('final', 21), ('year', 20), ('tomorrow.', 20), ('feeling', 20)]\n",
      "[('sure', 111), ('think', 103), ('know', 92), ('well', 70), ('knew', 70), ('hard', 69), ('job', 64), ('test', 53), ('pretty', 52), ('confident', 49), ('interview', 45), ('studied', 40), ('great', 40), ('next', 39), (\"i've\", 39), ('make', 38), ('feeling', 36), ('lot', 35), ('ready', 35), ('year', 32)]\n",
      "[('sure', 274), ('know', 203), ('think', 200), ('well', 152), ('great', 147), ('job', 147), ('hard', 146), ('hope', 131), ('knew', 131), ('test', 112), ('pretty', 109), ('confident', 101), ('interview', 88), ('studied', 82), ('always', 79), ('make', 76), ('would', 76), ('lot', 75), ('feeling', 75), ('next', 71)]\n",
      "impressed\n",
      "[('saw', 63), ('impressed', 40), ('guy', 40), ('daughter', 33), ('first', 33), ('amazed', 28), ('pretty', 27), ('proud', 25), ('son', 25), ('surprised', 23), ('see', 23), ('watching', 22), ('car', 22), ('old', 21), ('3', 21), ('great', 21), ('happy', 21), ('amazing', 21), ('much', 20), ('believe', 20)]\n",
      "[('saw', 57), ('guy', 35), ('impressed', 34), ('daughter', 30), ('first', 27), ('son', 26), ('school', 24), ('pretty', 24), ('much', 23), ('proud', 23), ('see', 23), ('amazed', 22), ('amazing', 21), ('3', 20), ('recently', 20), ('watching', 19), ('year', 19), ('show', 19), ('girl', 17), ('brother', 17)]\n",
      "[('saw', 68), ('impressed', 52), ('pretty', 51), ('much', 45), ('guy', 44), ('know', 44), ('first', 42), ('see', 41), ('think', 39), ('proud', 38), ('lot', 35), ('amazing', 35), ('surprised', 33), ('daughter', 32), ('school', 32), ('made', 32), ('even', 32), ('great', 31), ('old', 28), (\"he's\", 28)]\n",
      "[('saw', 137), ('pretty', 125), ('great', 96), ('impressed', 94), ('see', 93), ('proud', 90), ('would', 87), ('guy', 87), ('much', 86), ('first', 85), ('know', 78), ('lot', 77), ('amazing', 76), ('old', 76), ('think', 74), ('must', 73), ('happy', 69), ('daughter', 68), ('love', 67), ('people', 66)]\n",
      "nostalgic\n",
      "[('old', 251), ('back', 94), ('miss', 80), ('remember', 80), ('used', 73), ('found', 63), ('think', 43), ('school', 42), ('made', 42), ('first', 41), ('high', 40), ('reminded', 34), ('brought', 33), ('childhood', 33), ('play', 32), ('saw', 30), ('much', 30), ('looking', 30), ('playing', 30), ('days', 29)]\n",
      "[('old', 200), ('back', 98), ('miss', 76), ('used', 65), ('found', 63), ('remember', 55), ('childhood', 37), ('school', 36), ('made', 36), ('brought', 35), ('first', 34), ('high', 33), ('think', 33), ('lot', 31), ('days', 29), ('saw', 28), ('reminded', 28), ('kid', 28), ('looking', 27), ('playing', 26)]\n",
      "[('old', 296), ('back', 171), ('miss', 115), ('used', 94), ('remember', 84), ('found', 73), ('think', 72), ('made', 69), ('lot', 63), ('much', 56), ('school', 55), ('brought', 52), ('always', 50), ('childhood', 49), ('years', 48), ('love', 48), ('kids', 47), ('still', 46), ('high', 45), ('first', 45)]\n",
      "[('old', 623), ('back', 338), ('miss', 230), ('remember', 209), ('used', 195), ('think', 156), ('found', 144), ('love', 134), ('always', 133), ('made', 121), ('lot', 117), ('much', 111), ('school', 110), ('still', 107), ('memories', 103), ('great', 100), ('brought', 98), ('first', 96), ('fun', 95), ('high', 95)]\n",
      "prepared\n",
      "[('ready', 240), ('everything', 64), ('think', 38), ('next', 37), ('week', 36), ('school', 33), ('getting', 31), ('prepared', 31), ('sure', 31), ('test', 31), ('interview', 30), ('studied', 29), ('always', 29), ('make', 28), ('supplies', 27), ('made', 27), ('tomorrow.', 27), ('packed', 26), ('knew', 25), ('first', 25)]\n",
      "[('ready', 188), ('everything', 52), ('think', 44), ('week', 36), ('next', 29), ('getting', 28), ('prepared', 28), ('school', 28), ('interview', 27), ('coming', 26), ('sure', 26), ('first', 25), ('packed', 24), ('exam', 24), ('hurricane', 23), ('always', 23), ('make', 23), ('bought', 23), ('job', 23), ('test', 22)]\n",
      "[('ready', 266), ('think', 86), ('everything', 82), ('sure', 53), ('make', 51), ('prepared', 48), ('week', 45), ('first', 44), ('lot', 41), ('hard', 41), ('getting', 39), ('always', 39), (\"i've\", 39), ('next', 38), ('school', 36), ('never', 35), ('well', 35), ('job', 34), ('would', 33), ('packed', 33)]\n",
      "[('ready', 522), ('everything', 162), ('think', 151), ('sure', 141), ('always', 127), ('make', 120), ('prepared', 119), ('hope', 105), ('hard', 95), ('well', 86), ('lot', 85), ('first', 83), ('week', 83), ('getting', 82), ('next', 81), ('school', 79), ('would', 75), ('never', 75), ('great', 75), ('job', 75)]\n",
      "sentimental\n",
      "[('old', 131), ('miss', 66), ('found', 53), ('made', 35), ('family', 35), ('back', 33), ('think', 32), ('kids', 28), ('looking', 28), ('away', 28), ('love', 28), ('passed', 28), ('lot', 27), ('gave', 26), ('mom', 26), ('years', 25), ('remember', 24), ('first', 24), ('see', 23), ('sentimental', 23)]\n",
      "[('old', 114), ('miss', 56), ('found', 49), ('family', 32), ('back', 28), ('made', 27), ('lot', 25), ('kids', 24), ('mom', 24), ('away', 24), ('years', 24), ('passed', 24), ('gave', 23), ('used', 23), ('came', 22), ('saw', 22), ('remember', 21), ('always', 20), ('sentimental', 20), ('son', 20)]\n",
      "[('old', 149), ('miss', 93), ('back', 67), ('think', 62), ('found', 57), ('made', 49), ('little', 49), ('used', 48), ('kids', 47), ('lot', 46), ('family', 46), ('much', 46), ('years', 44), ('always', 42), ('still', 39), ('see', 38), ('makes', 36), ('great', 36), ('love', 36), ('passed', 36)]\n",
      "[('old', 334), ('miss', 178), ('back', 139), ('think', 126), ('found', 113), ('family', 112), ('love', 108), ('know', 107), ('always', 101), ('lot', 96), ('made', 91), ('kids', 90), ('see', 89), ('still', 88), ('much', 87), ('years', 86), ('great', 86), ('little', 83), ('used', 79), ('remember', 77)]\n",
      "grateful\n",
      "[('thankful', 89), ('happy', 78), ('glad', 51), ('grateful', 38), ('gave', 38), ('car', 37), ('family', 35), ('nice', 32), ('able', 30), ('came', 29), ('parents', 27), ('helped', 27), ('help', 25), ('dad', 25), ('great', 25), ('returned', 25), ('money', 25), ('back', 24), ('home', 24), ('house', 23)]\n",
      "[('thankful', 65), ('happy', 53), ('car', 39), ('glad', 39), ('family', 34), ('able', 32), ('helped', 29), ('money', 29), ('nice', 29), ('came', 28), ('back', 24), ('grateful', 24), ('parents', 23), ('dad', 22), ('gave', 22), ('house', 22), ('great', 21), ('take', 21), ('life', 21), ('home', 21)]\n",
      "[('thankful', 116), ('happy', 74), ('glad', 59), ('car', 56), ('know', 53), ('able', 51), ('family', 50), ('great', 44), ('lot', 43), ('nice', 43), ('helped', 42), ('came', 41), ('back', 41), ('money', 41), ('take', 41), ('help', 40), ('life', 40), ('gave', 39), ('still', 39), ('grateful', 37)]\n",
      "[('thankful', 213), ('nice', 192), ('happy', 185), ('glad', 164), ('great', 158), ('family', 109), ('know', 107), ('car', 105), ('able', 102), ('always', 101), ('would', 96), ('help', 95), ('people', 93), ('grateful', 87), ('money', 85), ('still', 82), ('love', 82), ('gave', 80), ('lot', 79), ('life', 78)]\n",
      "hopeful\n",
      "[('job', 61), ('hope', 60), ('think', 52), ('would', 51), ('hoping', 50), ('applied', 38), ('next', 34), ('win', 34), ('want', 33), ('better', 31), ('year', 29), ('hopeful', 28), ('getting', 27), ('optimistic', 27), ('trying', 25), ('feeling', 25), ('well', 24), ('looking', 24), ('lottery', 23), ('great', 22)]\n",
      "[('job', 56), ('hope', 50), ('hoping', 48), ('think', 45), ('next', 32), ('win', 31), ('applied', 29), ('would', 27), ('feeling', 26), ('want', 25), ('year', 25), ('better', 24), ('looking', 23), ('lottery', 21), ('getting', 21), ('positive', 20), ('hopeful', 19), ('optimistic', 19), ('trying', 18), ('make', 17)]\n",
      "[('think', 100), ('hope', 98), ('hoping', 67), ('would', 66), ('job', 66), ('want', 57), ('feeling', 46), ('know', 45), ('make', 41), ('next', 40), ('trying', 38), ('win', 36), ('sure', 36), ('better', 36), ('year', 34), ('getting', 33), ('applied', 32), ('see', 32), ('things', 31), ('back', 30)]\n",
      "[('hope', 320), ('think', 205), ('would', 165), ('job', 151), ('sure', 125), ('hoping', 121), ('want', 105), ('know', 101), ('great', 97), ('well', 93), ('make', 86), ('feeling', 84), ('better', 84), ('next', 83), ('win', 81), ('trying', 71), ('applied', 71), ('getting', 70), ('see', 69), ('year', 67)]\n",
      "content\n",
      "[('happy', 91), ('life', 76), ('right', 54), ('nice', 41), ('finally', 40), ('job', 39), ('pretty', 36), ('great', 35), ('satisfied', 31), ('feeling', 31), ('home', 30), ('everything', 30), ('things', 26), ('family', 25), ('think', 23), ('content', 21), ('love', 21), ('house', 20), ('now.', 20), ('watching', 19)]\n",
      "[('happy', 83), ('life', 69), ('right', 53), ('nice', 44), ('finally', 36), ('job', 35), ('great', 35), ('pretty', 31), ('home', 28), ('everything', 27), ('house', 24), ('feeling', 24), ('things', 20), ('week', 20), ('family', 19), ('long', 19), ('night', 19), ('satisfied', 18), ('think', 17), ('weekend', 16)]\n",
      "[('happy', 114), ('life', 95), ('nice', 82), ('right', 73), ('pretty', 61), ('great', 53), ('finally', 49), ('think', 46), ('everything', 46), ('job', 43), ('things', 41), ('much', 41), ('home', 37), ('love', 36), ('house', 35), ('long', 35), ('better', 35), ('feeling', 32), ('satisfied', 31), ('content', 30)]\n",
      "[('happy', 252), ('life', 191), ('nice', 176), ('great', 162), ('right', 151), ('love', 125), ('pretty', 116), ('things', 98), ('job', 95), ('finally', 93), ('think', 92), ('everything', 91), ('always', 87), ('sounds', 87), ('long', 86), ('much', 84), ('feeling', 84), ('home', 77), ('family', 69), ('hope', 67)]\n",
      "caring\n",
      "[('care', 112), ('taking', 58), ('love', 53), ('took', 46), ('dog', 40), ('help', 39), ('loved', 38), ('sisters', 37), ('take', 32), ('little', 29), ('make', 27), ('sick', 27), ('home', 26), ('mom', 23), ('sure', 22), ('found', 22), ('made', 21), ('daughter', 19), ('family', 19), ('kids', 19)]\n",
      "[('care', 101), ('taking', 62), ('loved', 38), ('dog', 37), ('sisters', 37), ('love', 34), ('sick', 30), ('took', 30), ('home', 29), ('take', 27), ('little', 25), ('found', 24), ('help', 23), ('cat', 23), ('mom', 22), ('recently', 21), ('make', 20), ('family', 19), (',my', 19), ('always', 18)]\n",
      "[('care', 130), ('taking', 73), ('love', 68), ('help', 57), ('little', 52), ('take', 50), ('dog', 46), ('kids', 43), ('loved', 42), ('home', 41), ('took', 41), ('sure', 40), ('much', 40), ('sisters', 37), ('always', 36), ('know', 36), ('make', 34), ('hard', 34), ('sick', 34), ('think', 33)]\n",
      "[('care', 274), ('love', 170), ('taking', 138), ('help', 127), ('nice', 120), ('dog', 117), ('take', 114), ('hope', 101), ('sure', 100), ('little', 99), ('took', 93), ('loved', 87), ('kids', 85), (\"that's\", 82), ('know', 81), ('make', 78), ('people', 78), ('great', 78), ('always', 77), ('much', 75)]\n",
      "faithful\n",
      "[('always', 55), ('never', 40), ('would', 37), ('wife', 30), ('faithful', 29), ('girlfriend', 29), ('years', 28), ('girl', 26), ('husband', 25), ('cheat', 23), ('friends', 21), ('love', 20), ('married', 20), ('loyal', 19), ('told', 19), ('knew', 17), ('wanted', 16), ('tried', 14), ('people', 14), ('stay', 13)]\n",
      "[('always', 41), ('never', 35), ('girlfriend', 28), ('years', 27), ('wife', 27), ('would', 25), ('faithful', 24), ('married', 21), ('husband', 20), ('girl', 17), ('know', 17), ('love', 17), ('cheat', 16), ('friends', 15), ('recently', 14), ('best', 13), ('faith', 13), ('loyal', 13), ('even', 13), ('3', 12)]\n",
      "[('would', 65), ('never', 59), ('always', 53), ('years', 41), ('know', 39), ('people', 37), ('love', 36), ('girlfriend', 35), ('think', 34), ('wife', 33), ('faithful', 33), ('married', 32), ('cheat', 28), ('husband', 27), ('great', 27), ('things', 26), ('best', 25), ('hope', 25), ('girl', 23), ('even', 23)]\n",
      "[('always', 140), ('would', 135), ('never', 113), ('people', 86), ('years', 81), ('love', 80), ('know', 76), ('faithful', 73), ('wife', 69), ('hope', 69), ('great', 67), ('girlfriend', 66), ('think', 65), ('married', 62), ('husband', 57), ('cheat', 57), ('long', 54), ('lot', 53), ('girl', 51), ('things', 51)]\n"
     ]
    }
   ],
   "source": [
    "emotion_lst = [\"disgusted\",\"devastated\", \"terrified\", \"anxious\", \"furious\", \"embarrassed\", \"angry\", \"sad\", \"afraid\", \"annoyed\", \"jealous\", \"ashamed\", \"lonely\", \"guilty\", \"apprehensive\", \"disappointed\",\"surprised\",\"anticipating\",\"joyful\",\"excited\",\"trusting\",\"confident\",\"impressed\",\"nostalgic\",\"prepared\",\"sentimental\",\"grateful\",\"hopeful\",\"content\",\"caring\",\"faithful\"]\n",
    "\n",
    "for x in emotion_lst:\n",
    "    #make that dataframe\n",
    "    x_df = df[df['context'] == x]\n",
    "    # get first utterances only\n",
    "    x_utt_1 = x_df[x_df[\"turn\"] == 1]\n",
    "    #get speaker utterances only\n",
    "    x_utt_speaker = x_df[x_df[\"speaker_type\"] == \"speaker\"]\n",
    "    # FREQDIST FOR MODEL 1\n",
    "    x_model1 = ','.join(x_utt_1.prompt)\n",
    "    x_model1_20 = gettop20_distinct(x_model1)\n",
    "    # FREQDIST FOR MODEL 2\n",
    "    x_model2 = ','.join(x_utt_1.utterance)\n",
    "    x_model2_20 = gettop20_distinct(x_model2)\n",
    "    # FREQDIST FOR MODEL 3\n",
    "    x_model3 = ','.join(x_utt_speaker.utterance)\n",
    "    x_model3_20 = gettop20_distinct(x_model3)\n",
    "    # FREQDIST FOR MODEL 4\n",
    "    x_model4 = ','.join(x_df.utterance)\n",
    "    x_model4 = x_model4 + x_model1\n",
    "    x_model4_20 = gettop20_distinct(x_model4)\n",
    "    #return matrix?\n",
    "    for y in (x, x_model1_20, x_model2_20, x_model3_20, x_model4_20):\n",
    "        print(y)\n",
    "    "
   ]
  }
 ],
 "metadata": {
  "kernelspec": {
   "display_name": "Python 3",
   "language": "python",
   "name": "python3"
  },
  "language_info": {
   "codemirror_mode": {
    "name": "ipython",
    "version": 3
   },
   "file_extension": ".py",
   "mimetype": "text/x-python",
   "name": "python",
   "nbconvert_exporter": "python",
   "pygments_lexer": "ipython3",
   "version": "3.7.6"
  }
 },
 "nbformat": 4,
 "nbformat_minor": 4
}
