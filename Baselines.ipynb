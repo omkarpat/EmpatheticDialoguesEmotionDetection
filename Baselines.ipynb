{
  "nbformat": 4,
  "nbformat_minor": 0,
  "metadata": {
    "colab": {
      "name": "Baselines.ipynb",
      "provenance": [],
      "authorship_tag": "ABX9TyOpY4DWgtDEpxX7F5QD/0TQ",
      "include_colab_link": true
    },
    "kernelspec": {
      "name": "python3",
      "display_name": "Python 3"
    }
  },
  "cells": [
    {
      "cell_type": "markdown",
      "metadata": {
        "id": "view-in-github",
        "colab_type": "text"
      },
      "source": [
        "<a href=\"https://colab.research.google.com/github/omkarpat/EmpatheticDialoguesEmotionDetection/blob/master/Baselines.ipynb\" target=\"_parent\"><img src=\"https://colab.research.google.com/assets/colab-badge.svg\" alt=\"Open In Colab\"/></a>"
      ]
    },
    {
      "cell_type": "code",
      "metadata": {
        "id": "Ed6RYn3sV9d0",
        "colab_type": "code",
        "colab": {
          "base_uri": "https://localhost:8080/",
          "height": 143
        },
        "outputId": "0d301683-1503-4062-bb0f-8c69b43b4376"
      },
      "source": [
        "# Colab settings/mount\n",
        "from google.colab import drive\n",
        "drive.mount('/content/gdrive')\n",
        "%cd gdrive/My\\ Drive/CSE\\ 245\\ Project"
      ],
      "execution_count": 1,
      "outputs": [
        {
          "output_type": "stream",
          "text": [
            "Go to this URL in a browser: https://accounts.google.com/o/oauth2/auth?client_id=947318989803-6bn6qk8qdgf4n4g3pfee6491hc0brc4i.apps.googleusercontent.com&redirect_uri=urn%3aietf%3awg%3aoauth%3a2.0%3aoob&response_type=code&scope=email%20https%3a%2f%2fwww.googleapis.com%2fauth%2fdocs.test%20https%3a%2f%2fwww.googleapis.com%2fauth%2fdrive%20https%3a%2f%2fwww.googleapis.com%2fauth%2fdrive.photos.readonly%20https%3a%2f%2fwww.googleapis.com%2fauth%2fpeopleapi.readonly\n",
            "\n",
            "Enter your authorization code:\n",
            "··········\n",
            "Mounted at /content/gdrive\n",
            "/content/gdrive/My Drive/CSE 245 Project\n"
          ],
          "name": "stdout"
        }
      ]
    },
    {
      "cell_type": "code",
      "metadata": {
        "id": "ybznvtw9WnuJ",
        "colab_type": "code",
        "colab": {
          "base_uri": "https://localhost:8080/",
          "height": 52
        },
        "outputId": "8268c867-6d19-42c6-e3b9-fd336f2793c7"
      },
      "source": [
        "!ls Data"
      ],
      "execution_count": 3,
      "outputs": [
        {
          "output_type": "stream",
          "text": [
            "'Data Exploration.ipynb'   data_sample_100.json\n",
            " data_fixed_train.json\t   data_sample_10.json\n"
          ],
          "name": "stdout"
        }
      ]
    },
    {
      "cell_type": "code",
      "metadata": {
        "id": "FPeSFHHvWwwq",
        "colab_type": "code",
        "colab": {}
      },
      "source": [
        "import json\n"
      ],
      "execution_count": 0,
      "outputs": []
    },
    {
      "cell_type": "code",
      "metadata": {
        "id": "pT7Hdi2lW1NR",
        "colab_type": "code",
        "colab": {}
      },
      "source": [
        "train_data = json.load(open(\"Data/data_sample_10.json\"))"
      ],
      "execution_count": 0,
      "outputs": []
    },
    {
      "cell_type": "code",
      "metadata": {
        "id": "qR81njxAXc-_",
        "colab_type": "code",
        "colab": {}
      },
      "source": [
        "train_data_model1, train_data_model2, train_data_model3, train_data_model4 = [], [], [], []\n",
        "\n",
        "for key in train_data.keys():\n",
        "  train_data_model1.append(train_data[key][\"prompt\"])\n",
        "  train_data_model2.append(train_data[key][\"prompt\"] + train_data[key]['dialog'][0]['utterance'])\n",
        "  speaker = train_data[key]['dialog'][0]['speaker']\n",
        "  train_data_model3_string = train_data[key][\"prompt\"]\n",
        "  train_data_model4_string = train_data[key][\"prompt\"]\n",
        "  for item in train_data[key]['dialog']:\n",
        "    train_data_model4_string += item['utterance']\n",
        "    if item['speaker'] == speaker:\n",
        "      train_data_model3_string += item['utterance']\n",
        "  train_data_model3.append(train_data_model3_string)\n",
        "  train_data_model4.append(train_data_model4_string)\n"
      ],
      "execution_count": 0,
      "outputs": []
    },
    {
      "cell_type": "code",
      "metadata": {
        "id": "mZTAnlOycwTs",
        "colab_type": "code",
        "colab": {
          "base_uri": "https://localhost:8080/",
          "height": 107
        },
        "outputId": "7eeacf75-e183-4840-dcd4-9f7209694ec6"
      },
      "source": [
        "print(train_data_model1[0])\n",
        "print(train_data_model2[0])\n",
        "print(train_data_model3[0])\n",
        "print(train_data_model4[0])"
      ],
      "execution_count": 19,
      "outputs": [
        {
          "output_type": "stream",
          "text": [
            "We (family friends) planned a holiday trip to go for the last weekend. I was preparing for that like packing dress and getting ready to it. Unfortunately one of my cousin was unable to come due to his personal reasons. So we just cancelled the trip. I was feeling sad for this trip cancellation. \n",
            "We (family friends) planned a holiday trip to go for the last weekend. I was preparing for that like packing dress and getting ready to it. Unfortunately one of my cousin was unable to come due to his personal reasons. So we just cancelled the trip. I was feeling sad for this trip cancellation. My holiday trip has cancelled. I was feeling low for it. \n",
            "We (family friends) planned a holiday trip to go for the last weekend. I was preparing for that like packing dress and getting ready to it. Unfortunately one of my cousin was unable to come due to his personal reasons. So we just cancelled the trip. I was feeling sad for this trip cancellation. My holiday trip has cancelled. I was feeling low for it. yeah. Waiting for the next holiday.thank you! have a nice day\n",
            "We (family friends) planned a holiday trip to go for the last weekend. I was preparing for that like packing dress and getting ready to it. Unfortunately one of my cousin was unable to come due to his personal reasons. So we just cancelled the trip. I was feeling sad for this trip cancellation. My holiday trip has cancelled. I was feeling low for it. That is bad news and hard to deal with.yeah. Waiting for the next holiday.I sure hope you have a wonderful next Holiday trip very soon.thank you! have a nice day\n"
          ],
          "name": "stdout"
        }
      ]
    }
  ]
}