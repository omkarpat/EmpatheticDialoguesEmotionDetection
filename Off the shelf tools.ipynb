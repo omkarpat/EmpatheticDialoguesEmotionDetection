{
 "cells": [
  {
   "cell_type": "code",
   "execution_count": 2,
   "metadata": {},
   "outputs": [
    {
     "name": "stdout",
     "output_type": "stream",
     "text": [
      "Requirement already satisfied: flair in /home/omkar/.local/lib/python3.7/site-packages (0.4.5)\n",
      "Requirement already satisfied: gensim>=3.4.0 in /home/omkar/.local/lib/python3.7/site-packages (from flair) (3.8.3)\n",
      "Requirement already satisfied: tqdm>=4.26.0 in /home/omkar/.local/lib/python3.7/site-packages (from flair) (4.46.0)\n",
      "Requirement already satisfied: hyperopt>=0.1.1 in /home/omkar/.local/lib/python3.7/site-packages (from flair) (0.2.4)\n",
      "Requirement already satisfied: transformers>=2.3.0 in /home/omkar/.local/lib/python3.7/site-packages (from flair) (2.9.0)\n",
      "Requirement already satisfied: sqlitedict>=1.6.0 in /home/omkar/.local/lib/python3.7/site-packages (from flair) (1.6.0)\n",
      "Requirement already satisfied: torch>=1.1.0 in /home/omkar/.local/lib/python3.7/site-packages (from flair) (1.5.0)\n",
      "Requirement already satisfied: scikit-learn>=0.21.3 in /home/omkar/.local/lib/python3.7/site-packages (from flair) (0.22.2.post1)\n",
      "Requirement already satisfied: bpemb>=0.2.9 in /home/omkar/.local/lib/python3.7/site-packages (from flair) (0.3.0)\n",
      "Requirement already satisfied: regex in /home/omkar/.local/lib/python3.7/site-packages (from flair) (2020.5.7)\n",
      "Requirement already satisfied: tabulate in /home/omkar/.local/lib/python3.7/site-packages (from flair) (0.8.7)\n",
      "Requirement already satisfied: urllib3<1.25,>=1.20 in /usr/lib/python3/dist-packages (from flair) (1.24.1)\n",
      "Requirement already satisfied: python-dateutil>=2.6.1 in /usr/lib/python3/dist-packages (from flair) (2.7.3)\n",
      "Requirement already satisfied: pytest>=5.3.2 in /home/omkar/.local/lib/python3.7/site-packages (from flair) (5.4.2)\n",
      "Requirement already satisfied: deprecated>=1.2.4 in /home/omkar/.local/lib/python3.7/site-packages (from flair) (1.2.9)\n",
      "Requirement already satisfied: segtok>=1.5.7 in /home/omkar/.local/lib/python3.7/site-packages (from flair) (1.5.9)\n",
      "Requirement already satisfied: matplotlib>=2.2.3 in /home/omkar/.local/lib/python3.7/site-packages (from flair) (3.2.1)\n",
      "Requirement already satisfied: langdetect in /home/omkar/.local/lib/python3.7/site-packages (from flair) (1.0.8)\n",
      "Requirement already satisfied: mpld3==0.3 in /home/omkar/.local/lib/python3.7/site-packages (from flair) (0.3)\n",
      "Requirement already satisfied: scipy>=0.18.1 in /home/omkar/.local/lib/python3.7/site-packages (from gensim>=3.4.0->flair) (1.4.1)\n",
      "Requirement already satisfied: six>=1.5.0 in /usr/lib/python3/dist-packages (from gensim>=3.4.0->flair) (1.12.0)\n",
      "Requirement already satisfied: smart-open>=1.8.1 in /home/omkar/.local/lib/python3.7/site-packages (from gensim>=3.4.0->flair) (2.0.0)\n",
      "Requirement already satisfied: numpy>=1.11.3 in /home/omkar/.local/lib/python3.7/site-packages (from gensim>=3.4.0->flair) (1.18.4)\n",
      "Requirement already satisfied: networkx>=2.2 in /home/omkar/.local/lib/python3.7/site-packages (from hyperopt>=0.1.1->flair) (2.4)\n",
      "Requirement already satisfied: future in /usr/lib/python3/dist-packages (from hyperopt>=0.1.1->flair) (0.16.0)\n",
      "Requirement already satisfied: cloudpickle in /home/omkar/.local/lib/python3.7/site-packages (from hyperopt>=0.1.1->flair) (1.4.1)\n",
      "Requirement already satisfied: requests in /usr/lib/python3/dist-packages (from transformers>=2.3.0->flair) (2.21.0)\n",
      "Requirement already satisfied: sentencepiece in /home/omkar/.local/lib/python3.7/site-packages (from transformers>=2.3.0->flair) (0.1.86)\n",
      "Requirement already satisfied: sacremoses in /home/omkar/.local/lib/python3.7/site-packages (from transformers>=2.3.0->flair) (0.0.43)\n",
      "Requirement already satisfied: filelock in /home/omkar/.local/lib/python3.7/site-packages (from transformers>=2.3.0->flair) (3.0.12)\n",
      "Requirement already satisfied: tokenizers==0.7.0 in /home/omkar/.local/lib/python3.7/site-packages (from transformers>=2.3.0->flair) (0.7.0)\n",
      "Requirement already satisfied: joblib>=0.11 in /home/omkar/.local/lib/python3.7/site-packages (from scikit-learn>=0.21.3->flair) (0.14.1)\n",
      "Requirement already satisfied: more-itertools>=4.0.0 in /home/omkar/.local/lib/python3.7/site-packages (from pytest>=5.3.2->flair) (8.2.0)\n",
      "Requirement already satisfied: wcwidth in /usr/lib/python3/dist-packages (from pytest>=5.3.2->flair) (0.1.7)\n",
      "Requirement already satisfied: packaging in /home/omkar/.local/lib/python3.7/site-packages (from pytest>=5.3.2->flair) (20.3)\n",
      "Requirement already satisfied: pluggy<1.0,>=0.12 in /home/omkar/.local/lib/python3.7/site-packages (from pytest>=5.3.2->flair) (0.13.1)\n",
      "Requirement already satisfied: py>=1.5.0 in /home/omkar/.local/lib/python3.7/site-packages (from pytest>=5.3.2->flair) (1.8.1)\n",
      "Requirement already satisfied: attrs>=17.4.0 in /home/omkar/.local/lib/python3.7/site-packages (from pytest>=5.3.2->flair) (19.3.0)\n",
      "Requirement already satisfied: importlib-metadata>=0.12; python_version < \"3.8\" in /home/omkar/.local/lib/python3.7/site-packages (from pytest>=5.3.2->flair) (1.6.0)\n",
      "Requirement already satisfied: wrapt<2,>=1.10 in /home/omkar/.local/lib/python3.7/site-packages (from deprecated>=1.2.4->flair) (1.12.1)\n",
      "Requirement already satisfied: kiwisolver>=1.0.1 in /home/omkar/.local/lib/python3.7/site-packages (from matplotlib>=2.2.3->flair) (1.2.0)\n",
      "Requirement already satisfied: cycler>=0.10 in /home/omkar/.local/lib/python3.7/site-packages (from matplotlib>=2.2.3->flair) (0.10.0)\n",
      "Requirement already satisfied: pyparsing!=2.0.4,!=2.1.2,!=2.1.6,>=2.0.1 in /home/omkar/.local/lib/python3.7/site-packages (from matplotlib>=2.2.3->flair) (2.4.7)\n",
      "Requirement already satisfied: boto in /home/omkar/.local/lib/python3.7/site-packages (from smart-open>=1.8.1->gensim>=3.4.0->flair) (2.49.0)\n",
      "Requirement already satisfied: boto3 in /home/omkar/.local/lib/python3.7/site-packages (from smart-open>=1.8.1->gensim>=3.4.0->flair) (1.13.6)\n",
      "Requirement already satisfied: decorator>=4.3.0 in /usr/lib/python3/dist-packages (from networkx>=2.2->hyperopt>=0.1.1->flair) (4.3.0)\n",
      "Requirement already satisfied: click in /home/omkar/.local/lib/python3.7/site-packages (from sacremoses->transformers>=2.3.0->flair) (7.1.2)\n",
      "Requirement already satisfied: zipp>=0.5 in /home/omkar/.local/lib/python3.7/site-packages (from importlib-metadata>=0.12; python_version < \"3.8\"->pytest>=5.3.2->flair) (3.1.0)\n",
      "Requirement already satisfied: jmespath<1.0.0,>=0.7.1 in /home/omkar/.local/lib/python3.7/site-packages (from boto3->smart-open>=1.8.1->gensim>=3.4.0->flair) (0.9.5)\n",
      "Requirement already satisfied: s3transfer<0.4.0,>=0.3.0 in /home/omkar/.local/lib/python3.7/site-packages (from boto3->smart-open>=1.8.1->gensim>=3.4.0->flair) (0.3.3)\n",
      "Requirement already satisfied: botocore<1.17.0,>=1.16.6 in /home/omkar/.local/lib/python3.7/site-packages (from boto3->smart-open>=1.8.1->gensim>=3.4.0->flair) (1.16.6)\n",
      "Requirement already satisfied: docutils<0.16,>=0.10 in /home/omkar/.local/lib/python3.7/site-packages (from botocore<1.17.0,>=1.16.6->boto3->smart-open>=1.8.1->gensim>=3.4.0->flair) (0.15.2)\n",
      "Collecting textblob\n",
      "\u001b[?25l  Downloading https://files.pythonhosted.org/packages/60/f0/1d9bfcc8ee6b83472ec571406bd0dd51c0e6330ff1a51b2d29861d389e85/textblob-0.15.3-py2.py3-none-any.whl (636kB)\n",
      "\u001b[K    100% |████████████████████████████████| 645kB 1.1MB/s eta 0:00:01\n",
      "\u001b[?25hCollecting nltk>=3.1 (from textblob)\n",
      "\u001b[?25l  Downloading https://files.pythonhosted.org/packages/92/75/ce35194d8e3022203cca0d2f896dbb88689f9b3fce8e9f9cff942913519d/nltk-3.5.zip (1.4MB)\n",
      "\u001b[K    100% |████████████████████████████████| 1.4MB 550kB/s eta 0:00:01\n",
      "\u001b[?25hRequirement already satisfied: click in /home/omkar/.local/lib/python3.7/site-packages (from nltk>=3.1->textblob) (7.1.2)\n",
      "Requirement already satisfied: joblib in /home/omkar/.local/lib/python3.7/site-packages (from nltk>=3.1->textblob) (0.14.1)\n",
      "Requirement already satisfied: regex in /home/omkar/.local/lib/python3.7/site-packages (from nltk>=3.1->textblob) (2020.5.7)\n",
      "Requirement already satisfied: tqdm in /home/omkar/.local/lib/python3.7/site-packages (from nltk>=3.1->textblob) (4.46.0)\n",
      "Building wheels for collected packages: nltk\n",
      "  Running setup.py bdist_wheel for nltk ... \u001b[?25ldone\n",
      "\u001b[?25h  Stored in directory: /home/omkar/.cache/pip/wheels/ae/8c/3f/b1fe0ba04555b08b57ab52ab7f86023639a526d8bc8d384306\n",
      "Successfully built nltk\n",
      "Installing collected packages: nltk, textblob\n",
      "\u001b[33m  The script nltk is installed in '/home/omkar/.local/bin' which is not on PATH.\n",
      "  Consider adding this directory to PATH or, if you prefer to suppress this warning, use --no-warn-script-location.\u001b[0m\n"
     ]
    },
    {
     "name": "stdout",
     "output_type": "stream",
     "text": [
      "Successfully installed nltk-3.5 textblob-0.15.3\r\n"
     ]
    }
   ],
   "source": [
    "!pip3 install flair\n",
    "!pip3 install textblob"
   ]
  },
  {
   "cell_type": "code",
   "execution_count": 1,
   "metadata": {},
   "outputs": [
    {
     "name": "stderr",
     "output_type": "stream",
     "text": [
      "[nltk_data] Downloading package vader_lexicon to\n",
      "[nltk_data]     /home/omkar/nltk_data...\n",
      "[nltk_data]   Package vader_lexicon is already up-to-date!\n"
     ]
    },
    {
     "name": "stdout",
     "output_type": "stream",
     "text": [
      "2020-05-16 13:09:15,631 loading file /home/omkar/.flair/models/imdb-v0.4.pt\n"
     ]
    }
   ],
   "source": [
    "import nltk\n",
    "nltk.download('vader_lexicon')\n",
    "from nltk.sentiment.vader import SentimentIntensityAnalyzer\n",
    "from textblob import TextBlob\n",
    "import flair\n",
    "\n",
    "sid = SentimentIntensityAnalyzer()\n",
    "flair_sentiment = flair.models.TextClassifier.load('en-sentiment')"
   ]
  },
  {
   "cell_type": "code",
   "execution_count": 2,
   "metadata": {},
   "outputs": [],
   "source": [
    "sample_text_1 = \"My friend just bought a brand new car. My car hasn't worked for months\"\n",
    "sample_text_2 = \"My friend just bought a brand new car. My car hasn't worked for months. I hate being envious, but I've needed a car for months and my friend just bought a new one.\"\n",
    "sample_text_3 = \"My friend just bought a brand new car. My car hasn't worked for months. I hate being envious, but I've needed a car for months and my friend just bought a new one. I guess so. It is a really nice car. lol. i like you!\"\n",
    "sample_text_4 = \"My friend just bought a brand new car. My car hasn't worked for months. I hate being envious, but I've needed a car for months and my friend just bought a new one. I know what you mean... but for now maybe you can just car pool around with your friend until you can get one! I guess so. It is a really nice car. So you can ride in style for free. Sounds fair to me.. until you get yours! :) lol. i like you!\""
   ]
  },
  {
   "cell_type": "code",
   "execution_count": 10,
   "metadata": {},
   "outputs": [
    {
     "name": "stdout",
     "output_type": "stream",
     "text": [
      "{'neg': 0.0, 'neu': 0.789, 'pos': 0.211, 'compound': 0.4939}\n",
      "{'neg': 0.11, 'neu': 0.708, 'pos': 0.181, 'compound': 0.5423}\n",
      "{'neg': 0.072, 'neu': 0.592, 'pos': 0.336, 'compound': 0.9458}\n",
      "{'neg': 0.037, 'neu': 0.638, 'pos': 0.325, 'compound': 0.9863}\n"
     ]
    }
   ],
   "source": [
    "print(sid.polarity_scores(sample_text_1))\n",
    "print(sid.polarity_scores(sample_text_2))\n",
    "print(sid.polarity_scores(sample_text_3))\n",
    "print(sid.polarity_scores(sample_text_4))"
   ]
  },
  {
   "cell_type": "code",
   "execution_count": 12,
   "metadata": {},
   "outputs": [
    {
     "name": "stdout",
     "output_type": "stream",
     "text": [
      "Sentiment(polarity=0.13636363636363635, subjectivity=0.45454545454545453)\n",
      "Sentiment(polarity=-0.17575757575757578, subjectivity=0.603030303030303)\n",
      "Sentiment(polarity=0.21454545454545454, subjectivity=0.7018181818181818)\n",
      "Sentiment(polarity=0.27301136363636364, subjectivity=0.7662878787878789)\n"
     ]
    }
   ],
   "source": [
    "print(TextBlob(sample_text_1).sentiment)\n",
    "print(TextBlob(sample_text_2).sentiment)\n",
    "print(TextBlob(sample_text_3).sentiment)\n",
    "print(TextBlob(sample_text_4).sentiment)"
   ]
  },
  {
   "cell_type": "code",
   "execution_count": 3,
   "metadata": {},
   "outputs": [
    {
     "name": "stderr",
     "output_type": "stream",
     "text": [
      "/pytorch/torch/csrc/utils/tensor_numpy.cpp:141: UserWarning: The given NumPy array is not writeable, and PyTorch does not support non-writeable tensors. This means you can write to the underlying (supposedly non-writeable) NumPy array using the tensor. You may want to copy the array to protect its data or make it writeable before converting it to a tensor. This type of warning will be suppressed for the rest of this program.\n"
     ]
    },
    {
     "name": "stdout",
     "output_type": "stream",
     "text": [
      "[NEGATIVE (0.9462078809738159)]\n",
      "[NEGATIVE (0.9741699695587158)]\n",
      "[POSITIVE (0.9946980476379395)]\n",
      "[POSITIVE (0.9992683529853821)]\n"
     ]
    }
   ],
   "source": [
    "s1 = flair.data.Sentence(sample_text_1)\n",
    "s2 = flair.data.Sentence(sample_text_2)\n",
    "s3 = flair.data.Sentence(sample_text_3)\n",
    "s4 = flair.data.Sentence(sample_text_4)\n",
    "flair_sentiment.predict(s1)\n",
    "flair_sentiment.predict(s2)\n",
    "flair_sentiment.predict(s3)\n",
    "flair_sentiment.predict(s4)\n",
    "print(s1.labels)\n",
    "print(s2.labels)\n",
    "print(s3.labels)\n",
    "print(s4.labels)"
   ]
  },
  {
   "cell_type": "code",
   "execution_count": 10,
   "metadata": {},
   "outputs": [
    {
     "name": "stdout",
     "output_type": "stream",
     "text": [
      "{'value': 'NEGATIVE', 'confidence': 0.9462078809738159}\n"
     ]
    },
    {
     "ename": "AttributeError",
     "evalue": "'Sentiment' object has no attribute 'to_dict'",
     "output_type": "error",
     "traceback": [
      "\u001b[0;31m---------------------------------------------------------------------------\u001b[0m",
      "\u001b[0;31mAttributeError\u001b[0m                            Traceback (most recent call last)",
      "\u001b[0;32m<ipython-input-10-c09892af6b4d>\u001b[0m in \u001b[0;36m<module>\u001b[0;34m\u001b[0m\n\u001b[1;32m      1\u001b[0m \u001b[0mprint\u001b[0m\u001b[0;34m(\u001b[0m\u001b[0ms1\u001b[0m\u001b[0;34m.\u001b[0m\u001b[0mlabels\u001b[0m\u001b[0;34m[\u001b[0m\u001b[0;36m0\u001b[0m\u001b[0;34m]\u001b[0m\u001b[0;34m.\u001b[0m\u001b[0mto_dict\u001b[0m\u001b[0;34m(\u001b[0m\u001b[0;34m)\u001b[0m\u001b[0;34m)\u001b[0m\u001b[0;34m\u001b[0m\u001b[0;34m\u001b[0m\u001b[0m\n\u001b[0;32m----> 2\u001b[0;31m \u001b[0mprint\u001b[0m\u001b[0;34m(\u001b[0m\u001b[0mTextBlob\u001b[0m\u001b[0;34m(\u001b[0m\u001b[0msample_text_1\u001b[0m\u001b[0;34m)\u001b[0m\u001b[0;34m.\u001b[0m\u001b[0msentiment\u001b[0m\u001b[0;34m.\u001b[0m\u001b[0mto_dict\u001b[0m\u001b[0;34m(\u001b[0m\u001b[0;34m)\u001b[0m\u001b[0;34m)\u001b[0m\u001b[0;34m\u001b[0m\u001b[0;34m\u001b[0m\u001b[0m\n\u001b[0m",
      "\u001b[0;31mAttributeError\u001b[0m: 'Sentiment' object has no attribute 'to_dict'"
     ]
    }
   ],
   "source": [
    "print(s1.labels[0].to_dict())\n",
    "print(TextBlob(sample_text_1).sentiment.to_dict())"
   ]
  }
 ],
 "metadata": {
  "kernelspec": {
   "display_name": "Python 3",
   "language": "python",
   "name": "python3"
  },
  "language_info": {
   "codemirror_mode": {
    "name": "ipython",
    "version": 3
   },
   "file_extension": ".py",
   "mimetype": "text/x-python",
   "name": "python",
   "nbconvert_exporter": "python",
   "pygments_lexer": "ipython3",
   "version": "3.7.6"
  }
 },
 "nbformat": 4,
 "nbformat_minor": 4
}
